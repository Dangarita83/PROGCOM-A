{
  "nbformat": 4,
  "nbformat_minor": 0,
  "metadata": {
    "colab": {
      "provenance": [],
      "authorship_tag": "ABX9TyOyAz+VEMGkVDYRupHuovYz",
      "include_colab_link": true
    },
    "kernelspec": {
      "name": "python3",
      "display_name": "Python 3"
    },
    "language_info": {
      "name": "python"
    }
  },
  "cells": [
    {
      "cell_type": "markdown",
      "metadata": {
        "id": "view-in-github",
        "colab_type": "text"
      },
      "source": [
        "<a href=\"https://colab.research.google.com/github/Dangarita83/PROGCOM-A/blob/main/GP1_Piedra%2C_papel_y_tijera_David_Angarita.ipynb\" target=\"_parent\"><img src=\"https://colab.research.google.com/assets/colab-badge.svg\" alt=\"Open In Colab\"/></a>"
      ]
    },
    {
      "cell_type": "code",
      "execution_count": 40,
      "metadata": {
        "colab": {
          "base_uri": "https://localhost:8080/"
        },
        "id": "uVxpMz_LqS8t",
        "outputId": "3a34a367-9801-400e-d031-be31c2a08df3"
      },
      "outputs": [
        {
          "output_type": "stream",
          "name": "stdout",
          "text": [
            "Elige: piedra, papel o tijera: asdas\n",
            "Opción no válida. Intenta de nuevo.\n"
          ]
        }
      ],
      "source": [
        "import random\n",
        "\n",
        "# Definir colores ANSI\n",
        "ROJO = \"\\033[31m\"\n",
        "VERDE = \"\\033[32m\"\n",
        "\n",
        "def mostrar_resultado(resultado):\n",
        "    if resultado == \"ganaste\":\n",
        "        print(f\"{VERDE} \\U0001F600 ¡Has ganado!\")\n",
        "    elif resultado == \"perdiste\":\n",
        "        print(f\"{ROJO} \\U0001F641 ¡Has perdido!\")\n",
        "\n",
        "def juego():\n",
        "    opciones = [\"piedra\", \"papel\", \"tijera\"]\n",
        "\n",
        "    # Entrada del jugador\n",
        "    eleccion_jugador = input(\"Elige: piedra, papel o tijera: \").lower()\n",
        "\n",
        "    # Verificar si la opción del jugador es válida\n",
        "    if eleccion_jugador not in opciones:\n",
        "        print(\"Opción no válida. Intenta de nuevo.\")\n",
        "        return\n",
        "\n",
        "    # Elección de la computadora\n",
        "    eleccion_computadora = random.choice(opciones)\n",
        "    print(f\"Tu contrincante ha elegido: {eleccion_computadora}\")\n",
        "\n",
        "    # Determinar el resultado\n",
        "    if eleccion_jugador == eleccion_computadora:\n",
        "        print(\" \\U0001F610 Empate.\")\n",
        "    elif (eleccion_jugador == \"piedra\" and eleccion_computadora == \"tijera\") or \\\n",
        "         (eleccion_jugador == \"papel\" and eleccion_computadora == \"piedra\") or \\\n",
        "         (eleccion_jugador == \"tijera\" and eleccion_computadora == \"papel\"):\n",
        "        mostrar_resultado(\"ganaste\")\n",
        "    else:\n",
        "        mostrar_resultado(\"perdiste\")\n",
        "\n",
        "# Iniciar el juego\n",
        "juego()\n"
      ]
    }
  ]
}