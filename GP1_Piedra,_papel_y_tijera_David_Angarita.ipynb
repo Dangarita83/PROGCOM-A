{
  "nbformat": 4,
  "nbformat_minor": 0,
  "metadata": {
    "colab": {
      "provenance": [],
      "authorship_tag": "ABX9TyPpjMgAEDaShM8KNgRlrCvd",
      "include_colab_link": true
    },
    "kernelspec": {
      "name": "python3",
      "display_name": "Python 3"
    },
    "language_info": {
      "name": "python"
    }
  },
  "cells": [
    {
      "cell_type": "markdown",
      "metadata": {
        "id": "view-in-github",
        "colab_type": "text"
      },
      "source": [
        "<a href=\"https://colab.research.google.com/github/Dangarita83/PROGCOM-A/blob/main/GP1_Piedra%2C_papel_y_tijera_David_Angarita.ipynb\" target=\"_parent\"><img src=\"https://colab.research.google.com/assets/colab-badge.svg\" alt=\"Open In Colab\"/></a>"
      ]
    },
    {
      "cell_type": "code",
      "execution_count": 7,
      "metadata": {
        "colab": {
          "base_uri": "https://localhost:8080/"
        },
        "id": "uVxpMz_LqS8t",
        "outputId": "2923c644-64cc-49e2-da6b-d0daf0c73a21"
      },
      "outputs": [
        {
          "output_type": "stream",
          "name": "stdout",
          "text": [
            "Elige: piedra, papel o tijera: piedra\n",
            "Tu contrincante ha elegido: papel\n",
            "\u001b[31m:( ¡Has perdido!\n"
          ]
        }
      ],
      "source": [
        "import random\n",
        "\n",
        "# Definir colores ANSI\n",
        "ROJO = \"\\033[31m\"\n",
        "VERDE = \"\\033[32m\"\n",
        "AMARILLO = \"\\033[33m\"\n",
        "RESET = \"\\033[0m\"\n",
        "\n",
        "def mostrar_resultado(resultado):\n",
        "    if resultado == \"ganaste\":\n",
        "        print(f\"{VERDE}:) ¡Has ganado!\")\n",
        "    elif resultado == \"perdiste\":\n",
        "        print(f\"{ROJO}:(\" + \" ¡Has perdido!\")\n",
        "\n",
        "def juego():\n",
        "    opciones = [\"piedra\", \"papel\", \"tijera\"]\n",
        "\n",
        "    # Entrada del jugador\n",
        "    eleccion_jugador = input(\"Elige: piedra, papel o tijera: \").lower()\n",
        "\n",
        "    # Verificar si la opción del jugador es válida\n",
        "    if eleccion_jugador not in opciones:\n",
        "        print(f\"{AMARILLO}Opción no válida. Intenta de nuevo.{RESET}\")\n",
        "        return\n",
        "\n",
        "    # Elección de la computadora\n",
        "    eleccion_computadora = random.choice(opciones)\n",
        "    print(f\"Tu contrincante ha elegido: {eleccion_computadora}\")\n",
        "\n",
        "    # Determinar el resultado\n",
        "    if eleccion_jugador == eleccion_computadora:\n",
        "        print(\"Empate.\")\n",
        "    elif (eleccion_jugador == \"piedra\" and eleccion_computadora == \"tijera\") or \\\n",
        "         (eleccion_jugador == \"papel\" and eleccion_computadora == \"piedra\") or \\\n",
        "         (eleccion_jugador == \"tijera\" and eleccion_computadora == \"papel\"):\n",
        "        mostrar_resultado(\"ganaste\")\n",
        "    else:\n",
        "        mostrar_resultado(\"perdiste\")\n",
        "\n",
        "# Iniciar el juego\n",
        "juego()\n"
      ]
    }
  ]
}