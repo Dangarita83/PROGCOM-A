{
  "nbformat": 4,
  "nbformat_minor": 0,
  "metadata": {
    "colab": {
      "provenance": []
    },
    "kernelspec": {
      "name": "python3",
      "display_name": "Python 3"
    },
    "language_info": {
      "name": "python"
    }
  },
  "cells": [
    {
      "cell_type": "code",
      "execution_count": 6,
      "metadata": {
        "colab": {
          "base_uri": "https://localhost:8080/"
        },
        "id": "WszNIXiN4glO",
        "outputId": "5db3f839-edc3-45c8-cd21-ceac2c8bc387"
      },
      "outputs": [
        {
          "output_type": "stream",
          "name": "stdout",
          "text": [
            "Veremos si un numero es par o impar\n",
            "Digite el numero 5\n",
            "Su numero es impar \n",
            "Su numero es impar\n"
          ]
        }
      ],
      "source": [
        "print(\"Veremos si un numero es par o impar\")\n",
        "## Solicitamos el numero al usuario\n",
        "numero= int(input(\"Digite el numero \"))\n",
        "\n",
        "if numero %2 == 0:\n",
        "  print(\"Su numero es par \")\n",
        "else:\n",
        "  print(\"Su numero es impar \")\n",
        "\n",
        "\n",
        "print(f\"Su numero es par\" if numero %2 ==0 else \"Su numero es impar\")"
      ]
    },
    {
      "cell_type": "code",
      "source": [
        "print(\"Veremos si un año es bisiesto o no\")\n",
        "## Solicitamos el año al usuario\n",
        "año = int(input(\"Digite el año \"))\n",
        "## divisible entre 4\n",
        "if año % 4 == 0 and año %100 != 0 or año %400 == 0:\n",
        "  print(\"Es bisiesto\")\n",
        "else:\n",
        "  print(\"No es bisiesto\")\n",
        "\n",
        "print(f\"Su año es bisiesto\" if año % 4 == 0 and año %100 != 0 or año %400 == 0 else \"No es bisiesto\" )"
      ],
      "metadata": {
        "colab": {
          "base_uri": "https://localhost:8080/"
        },
        "id": "Pv8UHO984l4F",
        "outputId": "7a1ac572-4ed1-4ddf-b2fd-c1c403e9dfc2"
      },
      "execution_count": 7,
      "outputs": [
        {
          "output_type": "stream",
          "name": "stdout",
          "text": [
            "Veremos si un año es bisiesto o no\n",
            "Digite el año 2000\n",
            "Es bisiesto\n",
            "Su año es bisiesto\n"
          ]
        }
      ]
    },
    {
      "cell_type": "code",
      "source": [
        "print(\"Escribe un programa que solicite el nombre del usuario y determine si una persona pertenece a la tercera edad (70 años o más) y si se cumple la condición, imprima que se le da prioridad en la fila.\")\n",
        "\n",
        "## Solicitamos datos al usuario\n",
        "edad = int(input(\"Digite su edad \"))\n",
        "## Validamos con un if la edad del usuario y hacemos prints\n",
        "if edad >= 70:\n",
        "  print(\"Tienes prioridad en la fila\")\n",
        "else:\n",
        "  print(\"No tienes prioridad\")\n",
        "\n",
        "print(f\"Tiene prioridad\" if edad >= 70 else \"No tienes prioridad\")"
      ],
      "metadata": {
        "colab": {
          "base_uri": "https://localhost:8080/"
        },
        "id": "O5lV4kmN4pat",
        "outputId": "55fb5ec9-3f4a-45c5-e176-ada941e12d34"
      },
      "execution_count": 10,
      "outputs": [
        {
          "output_type": "stream",
          "name": "stdout",
          "text": [
            "Escribe un programa que solicite el nombre del usuario y determine si una persona pertenece a la tercera edad (70 años o más) y si se cumple la condición, imprima que se le da prioridad en la fila.\n",
            "Digite su edad 80\n",
            "Tienes prioridad en la fila\n",
            "Tiene prioridad\n"
          ]
        }
      ]
    },
    {
      "cell_type": "code",
      "source": [
        "print(\"Desarrolla un programa que compare tres números y muestre el mayor.\")\n",
        "\n",
        "## Solicitamos numeros al usuario\n",
        "num1 = int(input(\"Digite un numero: \"))\n",
        "num2 = int(input(\"Digite un numero: \"))\n",
        "num3 = int(input(\"Digite un numero: \"))\n",
        "\n",
        "## Formulas de validacion\n",
        "\n",
        "if num1 > num2 and num1 > num3:\n",
        "  print(\"El numero 1 es el mayor\")\n",
        "elif num2 > num1 and num2 > num3:\n",
        "  print(\"El numero 2 es el mayor\")\n",
        "elif num3 > num2 and num3 > num1:\n",
        "  print(\"El numero 3 es el mayor\")\n",
        "else:\n",
        "  print(\"Todos son iguales\")\n"
      ],
      "metadata": {
        "colab": {
          "base_uri": "https://localhost:8080/"
        },
        "id": "L7JZEVra4sTM",
        "outputId": "a6dbb9c9-12f6-4ad4-82e8-2006e7338536"
      },
      "execution_count": 14,
      "outputs": [
        {
          "output_type": "stream",
          "name": "stdout",
          "text": [
            "Desarrolla un programa que compare tres números y muestre el mayor.\n",
            "Digite un numero: 1\n",
            "Digite un numero: 1\n",
            "Digite un numero: 1\n",
            "Todos son iguales\n"
          ]
        }
      ]
    },
    {
      "cell_type": "code",
      "source": [
        "print(\"Desarrola para que identifique si es escaleno, equilatero, isosceles\")\n",
        "\n",
        "num1 = int(input(\"Digite un numero: \"))\n",
        "num2 = int(input(\"Digite un numero: \"))\n",
        "num3 = int(input(\"Digite un numero: \"))\n",
        "\n",
        "\n",
        "if num1 == num2 and num1 == num3:\n",
        "  print(\"Tu triangulo es equilatero\")\n",
        "elif num1 == num2 or num1 == num3 or num3 == num2:\n",
        "  print(\"Tu triagunlo es isoceles\")\n",
        "else:\n",
        "  print(\"tu triangulo es escaleno\")"
      ],
      "metadata": {
        "colab": {
          "base_uri": "https://localhost:8080/"
        },
        "id": "zacgR-PQ4s19",
        "outputId": "55c6661d-6668-4192-f621-13b84d77dd18"
      },
      "execution_count": 2,
      "outputs": [
        {
          "output_type": "stream",
          "name": "stdout",
          "text": [
            "Desarrola para que identifique si es escaleno, equilatero, isosceles\n",
            "Digite un numero: 1\n",
            "Digite un numero: 1\n",
            "Digite un numero: 0\n",
            "Tu triagunlo es isoceles\n"
          ]
        }
      ]
    }
  ]
}