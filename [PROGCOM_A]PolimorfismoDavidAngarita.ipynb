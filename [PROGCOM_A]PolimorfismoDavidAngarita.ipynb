{
  "nbformat": 4,
  "nbformat_minor": 0,
  "metadata": {
    "colab": {
      "provenance": [],
      "authorship_tag": "ABX9TyMzZVaKoCoAgiDzxTIdkobq",
      "include_colab_link": true
    },
    "kernelspec": {
      "name": "python3",
      "display_name": "Python 3"
    },
    "language_info": {
      "name": "python"
    }
  },
  "cells": [
    {
      "cell_type": "markdown",
      "metadata": {
        "id": "view-in-github",
        "colab_type": "text"
      },
      "source": [
        "<a href=\"https://colab.research.google.com/github/Dangarita83/PROGCOM-A/blob/main/%5BPROGCOM_A%5DPolimorfismoDavidAngarita.ipynb\" target=\"_parent\"><img src=\"https://colab.research.google.com/assets/colab-badge.svg\" alt=\"Open In Colab\"/></a>"
      ]
    },
    {
      "cell_type": "code",
      "execution_count": 1,
      "metadata": {
        "colab": {
          "base_uri": "https://localhost:8080/"
        },
        "id": "IJylI8j4PmX2",
        "outputId": "17dfab04-170c-425f-b1c2-1dd75ad70e42"
      },
      "outputs": [
        {
          "output_type": "stream",
          "name": "stdout",
          "text": [
            "el auto avanza por la carretera\n",
            "la bicicleta avanza por la carretera\n",
            "el avion avanza en el cielo\n"
          ]
        }
      ],
      "source": [
        "class auto:\n",
        "    def mover(self):\n",
        "        print(\"el auto avanza por la carretera\")\n",
        "\n",
        "class bicicleta:\n",
        "    def mover(self):\n",
        "        print(\"la bicicleta avanza por la carretera\")\n",
        "\n",
        "class avion:\n",
        "    def mover(self):\n",
        "        print(\"el avion avanza en el cielo\")\n",
        "\n",
        "vehiculos = [auto(), bicicleta(), avion()]\n",
        "\n",
        "for v in vehiculos:\n",
        "    v.mover()"
      ]
    }
  ]
}