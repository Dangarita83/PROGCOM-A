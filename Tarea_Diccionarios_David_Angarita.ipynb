{
  "nbformat": 4,
  "nbformat_minor": 0,
  "metadata": {
    "colab": {
      "provenance": [],
      "authorship_tag": "ABX9TyPUoJBQzP+g5oOiHfizUm18",
      "include_colab_link": true
    },
    "kernelspec": {
      "name": "python3",
      "display_name": "Python 3"
    },
    "language_info": {
      "name": "python"
    }
  },
  "cells": [
    {
      "cell_type": "markdown",
      "metadata": {
        "id": "view-in-github",
        "colab_type": "text"
      },
      "source": [
        "<a href=\"https://colab.research.google.com/github/Dangarita83/PROGCOM-A/blob/main/Tarea_Diccionarios_David_Angarita.ipynb\" target=\"_parent\"><img src=\"https://colab.research.google.com/assets/colab-badge.svg\" alt=\"Open In Colab\"/></a>"
      ]
    },
    {
      "cell_type": "code",
      "execution_count": 7,
      "metadata": {
        "colab": {
          "base_uri": "https://localhost:8080/"
        },
        "id": "0EkRTuxEkaqZ",
        "outputId": "eea70662-84a2-4c44-b886-7a8e38966c69"
      },
      "outputs": [
        {
          "output_type": "stream",
          "name": "stdout",
          "text": [
            "Introduce el primer lado del triángulo: 5\n",
            "Introduce el segundo lado del triángulo: 5\n",
            "Introduce el tercer lado del triángulo: 5\n",
            "Equilátero\n"
          ]
        }
      ],
      "source": [
        "## 15 ##\n",
        "\n",
        "def tipo_triangulo(a, b, c):\n",
        "    if a + b > c and b + c > a and a + c > b:\n",
        "        tipos = {1: \"Equilátero\", 2: \"Isósceles\", 3: \"Escaleno\"}\n",
        "        if a == b == c:\n",
        "            return tipos[1]\n",
        "        elif a == b or b == c or a == c:\n",
        "            return tipos[2]\n",
        "        else:\n",
        "            return tipos[3]\n",
        "    else:\n",
        "        return \"No es un triángulo\"\n",
        "\n",
        "# Obtener datos del usuario\n",
        "a = int(input(\"Introduce el primer lado del triángulo: \"))\n",
        "b = int(input(\"Introduce el segundo lado del triángulo: \"))\n",
        "c = int(input(\"Introduce el tercer lado del triángulo: \"))\n",
        "\n",
        "# Usamos diccionario para almacenar los resultados\n",
        "resultados = {\n",
        "    \"Tipo de triángulo\": tipo_triangulo(a, b, c)\n",
        "}\n",
        "\n",
        "print(resultados[\"Tipo de triángulo\"])\n"
      ]
    },
    {
      "cell_type": "code",
      "source": [
        "## 16 ##\n",
        "\n",
        "def tabla_multiplicar(n):\n",
        "    tabla = {i: n * i for i in range(1, 11)}\n",
        "    return tabla\n",
        "\n",
        "# Obtener datos del usuario\n",
        "numero = int(input(\"Introduce el número para la tabla de multiplicar: \"))\n",
        "\n",
        "# Usamos diccionario para almacenar la tabla\n",
        "tabla = tabla_multiplicar(numero)\n",
        "\n",
        "# Mostrar resultados\n",
        "for i, resultado in tabla.items():\n",
        "    print(f\"{numero} x {i} = {resultado}\")\n",
        "\n"
      ],
      "metadata": {
        "colab": {
          "base_uri": "https://localhost:8080/"
        },
        "id": "iqyamcobkv0f",
        "outputId": "7aa62f2e-383f-41aa-d21a-cad569d69834"
      },
      "execution_count": 8,
      "outputs": [
        {
          "output_type": "stream",
          "name": "stdout",
          "text": [
            "Introduce el número para la tabla de multiplicar: 58\n",
            "58 x 1 = 58\n",
            "58 x 2 = 116\n",
            "58 x 3 = 174\n",
            "58 x 4 = 232\n",
            "58 x 5 = 290\n",
            "58 x 6 = 348\n",
            "58 x 7 = 406\n",
            "58 x 8 = 464\n",
            "58 x 9 = 522\n",
            "58 x 10 = 580\n"
          ]
        }
      ]
    },
    {
      "cell_type": "code",
      "source": [
        "## 17 ##\n",
        "\n",
        "def suma_numeros(n):\n",
        "    numeros = {i: i for i in range(1, n + 1)}\n",
        "    return sum(numeros.values())\n",
        "\n",
        "# Obtener datos del usuario\n",
        "n = int(input(\"Introduce un número n para calcular la suma de números naturales hasta n: \"))\n",
        "\n",
        "# Usamos diccionario para almacenar los números\n",
        "numeros = {i: i for i in range(1, n + 1)}\n",
        "\n",
        "# Mostrar el resultado\n",
        "print(f\"La suma de los primeros {n} números naturales es: {sum(numeros.values())}\")\n",
        "\n"
      ],
      "metadata": {
        "colab": {
          "base_uri": "https://localhost:8080/"
        },
        "id": "FUvfUyoHkzEb",
        "outputId": "123e67f8-0b0a-4951-d3ff-0681e32a50f6"
      },
      "execution_count": 9,
      "outputs": [
        {
          "output_type": "stream",
          "name": "stdout",
          "text": [
            "Introduce un número n para calcular la suma de números naturales hasta n: 58\n",
            "La suma de los primeros 58 números naturales es: 1711\n"
          ]
        }
      ]
    },
    {
      "cell_type": "code",
      "source": [
        "## 18 ##\n",
        "\n",
        "def factorial(n):\n",
        "    if n < 0:\n",
        "        return \"No existen factoriales negativos\"\n",
        "    elif n == 0:\n",
        "        return 1\n",
        "    else:\n",
        "        factoriales = {i: 1 for i in range(1, n + 1)}\n",
        "        for i in range(1, n + 1):\n",
        "            factoriales[i] = factoriales[i - 1] * i if i > 1 else 1\n",
        "        return factoriales[n]\n",
        "\n",
        "# Obtener datos del usuario\n",
        "numero = int(input(\"Introduce un número para calcular su factorial: \"))\n",
        "\n",
        "# Usamos diccionario para almacenar el factorial\n",
        "resultado = factorial(numero)\n",
        "\n",
        "print(f\"El factorial de {numero} es: {resultado}\")\n",
        "\n"
      ],
      "metadata": {
        "colab": {
          "base_uri": "https://localhost:8080/"
        },
        "id": "UkiG0KjCk3gJ",
        "outputId": "b140e5b3-d789-4775-ff9c-2248b2b162e6"
      },
      "execution_count": 11,
      "outputs": [
        {
          "output_type": "stream",
          "name": "stdout",
          "text": [
            "Introduce un número para calcular su factorial: 12\n",
            "El factorial de 12 es: 479001600\n"
          ]
        }
      ]
    },
    {
      "cell_type": "code",
      "source": [
        "## 19 ##\n",
        "\n",
        "def fibonacci(n):\n",
        "    fibo = {0: 0, 1: 1}\n",
        "    for i in range(2, n):\n",
        "        fibo[i] = fibo[i - 1] + fibo[i - 2]\n",
        "    return fibo\n",
        "\n",
        "# Obtener datos del usuario\n",
        "n = int(input(\"Introduce el número de elementos de la serie Fibonacci que deseas ver: \"))\n",
        "\n",
        "# Usamos diccionario para almacenar los resultados de Fibonacci\n",
        "resultado_fibo = fibonacci(n)\n",
        "\n",
        "# Mostrar los primeros n números de Fibonacci\n",
        "print(\"Los primeros\", n, \"números de Fibonacci son:\")\n",
        "for i in range(n):\n",
        "    print(resultado_fibo[i])\n",
        "\n"
      ],
      "metadata": {
        "colab": {
          "base_uri": "https://localhost:8080/"
        },
        "id": "7Ik7imCHk7hL",
        "outputId": "650074a4-676c-4c7c-fc4c-d782e4464ee7"
      },
      "execution_count": 13,
      "outputs": [
        {
          "output_type": "stream",
          "name": "stdout",
          "text": [
            "Introduce el número de elementos de la serie Fibonacci que deseas ver: 12\n",
            "Los primeros 12 números de Fibonacci son:\n",
            "0\n",
            "1\n",
            "1\n",
            "2\n",
            "3\n",
            "5\n",
            "8\n",
            "13\n",
            "21\n",
            "34\n",
            "55\n",
            "89\n"
          ]
        }
      ]
    },
    {
      "cell_type": "code",
      "source": [
        "## 20 ##\n",
        "\n",
        "import random\n",
        "\n",
        "def adivinar_color(colores):\n",
        "    color_aleatorio = random.choice(colores)\n",
        "    intentos_dict = {}  # Diccionario para contar intentos\n",
        "    intentos = 0\n",
        "    while intentos < 10:\n",
        "        intento = input(f\"Intento {intentos + 1}: Adivina el color: \")\n",
        "        intentos_dict[intentos + 1] = intento\n",
        "        if intento.lower() == color_aleatorio:\n",
        "            print(\"¡Correcto! Has adivinado el color.\")\n",
        "            break\n",
        "        else:\n",
        "            print(\"Incorrecto. Intenta de nuevo.\")\n",
        "        intentos += 1\n",
        "    else:\n",
        "        print(f\"Lo siento, el color correcto era: {color_aleatorio}\")\n",
        "\n",
        "    print(f\"Tus intentos fueron: {intentos_dict}\")\n",
        "\n",
        "# Obtener datos del usuario\n",
        "colores = [input(f\"Introduce el color {i+1}: \") for i in range(10)]\n",
        "adivinar_color(colores)\n"
      ],
      "metadata": {
        "colab": {
          "base_uri": "https://localhost:8080/"
        },
        "id": "04PNirbVla8K",
        "outputId": "f3041ed2-959b-42e8-8530-017dfcf7b03f"
      },
      "execution_count": 14,
      "outputs": [
        {
          "output_type": "stream",
          "name": "stdout",
          "text": [
            "Introduce el color 1: rojo\n",
            "Introduce el color 2: azul\n",
            "Introduce el color 3: verde\n",
            "Introduce el color 4: amarillo\n",
            "Introduce el color 5: negro\n",
            "Introduce el color 6: blanco\n",
            "Introduce el color 7: gris\n",
            "Introduce el color 8: dorado\n",
            "Introduce el color 9: rosa\n",
            "Introduce el color 10: morado\n",
            "Intento 1: Adivina el color: rojo\n",
            "Incorrecto. Intenta de nuevo.\n",
            "Intento 2: Adivina el color: azul\n",
            "Incorrecto. Intenta de nuevo.\n",
            "Intento 3: Adivina el color: verde\n",
            "¡Correcto! Has adivinado el color.\n",
            "Tus intentos fueron: {1: 'rojo', 2: 'azul', 3: 'verde'}\n"
          ]
        }
      ]
    },
    {
      "cell_type": "code",
      "source": [
        "## 21 ##\n",
        "\n",
        "def numeros_pares():\n",
        "    pares = {i: i for i in range(2, 101, 2)}\n",
        "    return pares\n",
        "\n",
        "# Usamos diccionario para almacenar los números pares\n",
        "pares_dict = numeros_pares()\n",
        "\n",
        "# Mostrar los números pares\n",
        "for numero in pares_dict.values():\n",
        "    print(numero)\n",
        "\n",
        "# No es necesario input en este caso, solo mostramos los pares\n"
      ],
      "metadata": {
        "colab": {
          "base_uri": "https://localhost:8080/"
        },
        "id": "lbEUr5AAlnOM",
        "outputId": "7ca4c43c-34c3-4285-ee0d-3c042081818b"
      },
      "execution_count": 15,
      "outputs": [
        {
          "output_type": "stream",
          "name": "stdout",
          "text": [
            "2\n",
            "4\n",
            "6\n",
            "8\n",
            "10\n",
            "12\n",
            "14\n",
            "16\n",
            "18\n",
            "20\n",
            "22\n",
            "24\n",
            "26\n",
            "28\n",
            "30\n",
            "32\n",
            "34\n",
            "36\n",
            "38\n",
            "40\n",
            "42\n",
            "44\n",
            "46\n",
            "48\n",
            "50\n",
            "52\n",
            "54\n",
            "56\n",
            "58\n",
            "60\n",
            "62\n",
            "64\n",
            "66\n",
            "68\n",
            "70\n",
            "72\n",
            "74\n",
            "76\n",
            "78\n",
            "80\n",
            "82\n",
            "84\n",
            "86\n",
            "88\n",
            "90\n",
            "92\n",
            "94\n",
            "96\n",
            "98\n",
            "100\n"
          ]
        }
      ]
    },
    {
      "cell_type": "code",
      "source": [
        "## 22 ##\n",
        "\n",
        "def suma_digitos(n):\n",
        "    digitos = {i: int(digit) for i, digit in enumerate(str(n))}\n",
        "    return sum(digitos.values())\n",
        "\n",
        "# Obtener datos del usuario\n",
        "numero = int(input(\"Introduce un número para calcular la suma de sus dígitos: \"))\n",
        "\n",
        "# Usamos diccionario para almacenar los dígitos\n",
        "resultado = suma_digitos(numero)\n",
        "\n",
        "print(f\"La suma de los dígitos de {numero} es: {resultado}\")\n"
      ],
      "metadata": {
        "colab": {
          "base_uri": "https://localhost:8080/"
        },
        "id": "cKV7hI5tlq-T",
        "outputId": "ef2a9795-a7a7-43ab-e367-9dfd7fa78398"
      },
      "execution_count": 16,
      "outputs": [
        {
          "output_type": "stream",
          "name": "stdout",
          "text": [
            "Introduce un número para calcular la suma de sus dígitos: 13\n",
            "La suma de los dígitos de 13 es: 4\n"
          ]
        }
      ]
    },
    {
      "cell_type": "code",
      "source": [
        "## 23 ##\n",
        "\n",
        "def es_primo(n):\n",
        "    if n < 2:\n",
        "        return False\n",
        "    factores = {i: n % i == 0 for i in range(2, n)}\n",
        "    if any(factores.values()):\n",
        "        return False\n",
        "    return True\n",
        "\n",
        "# Obtener datos del usuario\n",
        "numero = int(input(\"Introduce un número para verificar si es primo: \"))\n",
        "\n",
        "# Usamos diccionario para almacenar los factores\n",
        "es_primo_resultado = es_primo(numero)\n",
        "\n",
        "print(f\"El número {numero} es primo: {es_primo_resultado}\")\n"
      ],
      "metadata": {
        "colab": {
          "base_uri": "https://localhost:8080/"
        },
        "id": "Ejg41j_ulved",
        "outputId": "eaa60a19-294e-465c-e6fb-b986c7394481"
      },
      "execution_count": 17,
      "outputs": [
        {
          "output_type": "stream",
          "name": "stdout",
          "text": [
            "Introduce un número para verificar si es primo: 54\n",
            "El número 54 es primo: False\n"
          ]
        }
      ]
    },
    {
      "cell_type": "code",
      "source": [
        "## 24 ##\n",
        "\n",
        "def triangulo_asteriscos(n):\n",
        "    patrones = {i: '*' * i for i in range(1, n + 1)}\n",
        "    return patrones\n",
        "\n",
        "# Obtener datos del usuario\n",
        "altura = int(input(\"Introduce la altura del triángulo de asteriscos: \"))\n",
        "\n",
        "# Usamos diccionario para almacenar los patrones de asteriscos\n",
        "patrones = triangulo_asteriscos(altura)\n",
        "\n",
        "# Mostrar los patrones\n",
        "for i in range(1, altura + 1):\n",
        "    print(patrones[i])\n"
      ],
      "metadata": {
        "colab": {
          "base_uri": "https://localhost:8080/"
        },
        "id": "-xhtzb31l0qW",
        "outputId": "36d5f77e-5d28-48a8-9465-0cefa9bc236d"
      },
      "execution_count": 18,
      "outputs": [
        {
          "output_type": "stream",
          "name": "stdout",
          "text": [
            "Introduce la altura del triángulo de asteriscos: 5\n",
            "*\n",
            "**\n",
            "***\n",
            "****\n",
            "*****\n"
          ]
        }
      ]
    },
    {
      "cell_type": "code",
      "source": [
        "## 25 ##\n",
        "\n",
        "def potencia(base, exponente):\n",
        "    resultados = {i: base * i for i in range(1, exponente + 1)}\n",
        "    return resultados[exponente]\n",
        "\n",
        "# Obtener datos del usuario\n",
        "base = int(input(\"Introduce la base: \"))\n",
        "exponente = int(input(\"Introduce el exponente: \"))\n",
        "\n",
        "# Usamos diccionario para almacenar los resultados de las potencias\n",
        "resultado_potencia = potencia(base, exponente)\n",
        "\n",
        "print(f\"La potencia de {base} elevado a {exponente} es: {resultado_potencia}\")\n"
      ],
      "metadata": {
        "colab": {
          "base_uri": "https://localhost:8080/"
        },
        "id": "AgyEWnQml46T",
        "outputId": "72ee3078-4327-4a42-b2bc-69087e3b5080"
      },
      "execution_count": 19,
      "outputs": [
        {
          "output_type": "stream",
          "name": "stdout",
          "text": [
            "Introduce la base: 5\n",
            "Introduce el exponente: 2\n",
            "La potencia de 5 elevado a 2 es: 10\n"
          ]
        }
      ]
    }
  ]
}