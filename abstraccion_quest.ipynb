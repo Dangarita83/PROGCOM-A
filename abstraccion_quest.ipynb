{
  "nbformat": 4,
  "nbformat_minor": 0,
  "metadata": {
    "colab": {
      "provenance": [],
      "authorship_tag": "ABX9TyP/8lbDPCetruchSnJ/eqpL",
      "include_colab_link": true
    },
    "kernelspec": {
      "name": "python3",
      "display_name": "Python 3"
    },
    "language_info": {
      "name": "python"
    }
  },
  "cells": [
    {
      "cell_type": "markdown",
      "metadata": {
        "id": "view-in-github",
        "colab_type": "text"
      },
      "source": [
        "<a href=\"https://colab.research.google.com/github/Dangarita83/PROGCOM-A/blob/main/abstraccion_quest.ipynb\" target=\"_parent\"><img src=\"https://colab.research.google.com/assets/colab-badge.svg\" alt=\"Open In Colab\"/></a>"
      ]
    },
    {
      "cell_type": "code",
      "execution_count": 3,
      "metadata": {
        "colab": {
          "base_uri": "https://localhost:8080/"
        },
        "id": "_bPeAbTzpjcO",
        "outputId": "e6a81e1c-8953-4d1e-d2a2-f756ce605f50"
      },
      "outputs": [
        {
          "output_type": "stream",
          "name": "stdout",
          "text": [
            "Ana: APROBADA (Puntaje: 13)\n",
            "Luis: RECHAZADA (Puntaje: 5)\n",
            "Marta: APROBADA (Puntaje: 12)\n"
          ]
        }
      ],
      "source": [
        "from abc import ABC, abstractmethod\n",
        "\n",
        "# Clase abstracta\n",
        "class EvaluadorCredito(ABC):\n",
        "    @abstractmethod\n",
        "    def calcular_puntaje(self):\n",
        "        pass\n",
        "\n",
        "    @abstractmethod\n",
        "    def es_aprobado(self):\n",
        "        pass\n",
        "\n",
        "\n",
        "# Clase concreta que implementa la lógica\n",
        "class Persona(EvaluadorCredito):\n",
        "    def __init__(self, nombre, tiene_tarjetas_otras, no_reportado_riesgo, tipo_contrato,\n",
        "                 credito_otro_banco, credito_mismo_banco, edad):\n",
        "        self.nombre = nombre\n",
        "        self.tiene_tarjetas_otras = tiene_tarjetas_otras\n",
        "        self.no_reportado_riesgo = no_reportado_riesgo\n",
        "        self.tipo_contrato = tipo_contrato\n",
        "        self.credito_otro_banco = credito_otro_banco\n",
        "        self.credito_mismo_banco = credito_mismo_banco\n",
        "        self.edad = edad\n",
        "\n",
        "    def calcular_puntaje(self):\n",
        "        puntaje = 0\n",
        "        if self.tiene_tarjetas_otras:\n",
        "            puntaje += 1\n",
        "        if self.no_reportado_riesgo:\n",
        "            puntaje += 3\n",
        "        if self.tipo_contrato == 'definido':\n",
        "            puntaje += 2\n",
        "        elif self.tipo_contrato == 'indefinido':\n",
        "            puntaje += 3\n",
        "        if self.credito_otro_banco:\n",
        "            puntaje += 2\n",
        "        if self.credito_mismo_banco:\n",
        "            puntaje += 3\n",
        "        if 18 <= self.edad <= 22:\n",
        "            puntaje += 3\n",
        "        elif 23 <= self.edad <= 30:\n",
        "            puntaje += 3\n",
        "        elif 31 <= self.edad <= 40:\n",
        "            puntaje += 3\n",
        "        elif self.edad > 41:\n",
        "            puntaje += 1\n",
        "        return puntaje\n",
        "\n",
        "    def es_aprobado(self):\n",
        "        return self.calcular_puntaje() >= 6\n",
        "\n",
        "# Personas individuales\n",
        "persona1 = Persona(\"Ana\", True, True, 'indefinido', False, True, 25)\n",
        "persona2 = Persona(\"Luis\", False, False, 'definido', False, False, 20)\n",
        "persona3 = Persona(\"Marta\", True, True, 'definido', True, True, 42)\n",
        "\n",
        "# Evaluación e impresión individual (sin bucle)\n",
        "print(f\"{persona1.nombre}: {'APROBADA' if persona1.es_aprobado() else 'RECHAZADA'} (Puntaje: {persona1.calcular_puntaje()})\")\n",
        "print(f\"{persona2.nombre}: {'APROBADA' if persona2.es_aprobado() else 'RECHAZADA'} (Puntaje: {persona2.calcular_puntaje()})\")\n",
        "print(f\"{persona3.nombre}: {'APROBADA' if persona3.es_aprobado() else 'RECHAZADA'} (Puntaje: {persona3.calcular_puntaje()})\")\n"
      ]
    }
  ]
}