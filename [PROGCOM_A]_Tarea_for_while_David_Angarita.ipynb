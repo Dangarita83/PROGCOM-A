{
  "nbformat": 4,
  "nbformat_minor": 0,
  "metadata": {
    "colab": {
      "provenance": []
    },
    "kernelspec": {
      "name": "python3",
      "display_name": "Python 3"
    },
    "language_info": {
      "name": "python"
    }
  },
  "cells": [
    {
      "cell_type": "markdown",
      "source": [
        "11. CALCULADORA IMC"
      ],
      "metadata": {
        "id": "U9ZK8_gZPDVr"
      }
    },
    {
      "cell_type": "code",
      "execution_count": 73,
      "metadata": {
        "colab": {
          "base_uri": "https://localhost:8080/"
        },
        "id": "So5sOcScNW9m",
        "outputId": "184a9415-5595-43a7-dc21-faa3d758913d"
      },
      "outputs": [
        {
          "name": "stdout",
          "output_type": "stream",
          "text": [
            "Introduce tu nombre: David\n",
            "Introduce tu peso en kg: 96\n",
            "Introduce tu altura en metros: 1.86\n",
            "David, tu categoría es Sobrepeso. Debes reducir tu peso de manera saludable.\n",
            "¿Desea realizar otro calculo? digite (si/no)si\n",
            "Introduce tu nombre: David \n",
            "Introduce tu peso en kg: 50\n",
            "Introduce tu altura en metros: 1.55\n",
            "David , tu categoría es Normal. Mantén un estilo de vida saludable.\n",
            "¿Desea realizar otro calculo? digite (si/no)no\n"
          ]
        }
      ],
      "source": [
        "continuar = True\n",
        "while continuar == True:\n",
        "\n",
        "    nombre = input(\"Introduce tu nombre: \")\n",
        "    peso = float(input(\"Introduce tu peso en kg: \"))\n",
        "    altura = float(input(\"Introduce tu altura en metros: \"))\n",
        "\n",
        "    imc = peso / (altura ** 2)\n",
        "\n",
        "    if imc < 18.5:\n",
        "        categoria = \"Bajo peso\"\n",
        "        descripcion = \"Debes aumentar de peso de manera saludable.\"\n",
        "    elif 18.5 <= imc < 25:\n",
        "        categoria = \"Normal\"\n",
        "        descripcion = \"Mantén un estilo de vida saludable.\"\n",
        "    elif 25 <= imc < 30:\n",
        "        categoria = \"Sobrepeso\"\n",
        "        descripcion = \"Debes reducir tu peso de manera saludable.\"\n",
        "    else:\n",
        "        categoria = \"Obesidad\"\n",
        "        descripcion = \"Debes consultar a un especialista para reducir tu peso.\"\n",
        "\n",
        "    print(f\"{nombre}, tu categoría es {categoria}. {descripcion}\")\n",
        "    respuesta = input(\"¿Desea realizar otro calculo? digite (si/no)\")\n",
        "\n",
        "    if respuesta == \"si\":\n",
        "      continuar = True\n",
        "    if respuesta == \"no\":\n",
        "      continuar = False"
      ]
    },
    {
      "cell_type": "code",
      "source": [],
      "metadata": {
        "id": "KooDuJ6LWUba"
      },
      "execution_count": null,
      "outputs": []
    },
    {
      "cell_type": "markdown",
      "source": [
        "12. calculadora simple (+, -, *, /) con dos números.\n"
      ],
      "metadata": {
        "id": "WQoQf1b7PLQq"
      }
    },
    {
      "cell_type": "code",
      "source": [
        "continuar = True\n",
        "while continuar == True:\n",
        "\n",
        "    num1 = float(input(\"Introduce el primer número: \"))\n",
        "    num2 = float(input(\"Introduce el segundo número: \"))\n",
        "    operacion = input(\"Introduce la operación (+, -, *, /): \")\n",
        "\n",
        "    if operacion == '+':\n",
        "        resultado = num1 + num2\n",
        "    elif operacion == '-':\n",
        "        resultado = num1 - num2\n",
        "    elif operacion == '*':\n",
        "        resultado = num1 * num2\n",
        "    elif operacion == '/':\n",
        "        resultado = num1 / num2\n",
        "    else:\n",
        "        resultado = \"Operación no válida, selecciona alguno de estos (+, -, *, /)\"\n",
        "\n",
        "    print(f\"El resultado es: {resultado}\")\n",
        "\n",
        "    respuesta = input(\"¿Desea realizar otro calculo? digite (si/no)\")\n",
        "    if respuesta == \"si\":\n",
        "      continuar = True\n",
        "    if respuesta == \"no\":\n",
        "      continuar = False"
      ],
      "metadata": {
        "colab": {
          "base_uri": "https://localhost:8080/"
        },
        "id": "Wt_VOMPjPQ4U",
        "outputId": "87f1c1db-a42e-47a5-d088-abc7b589a234"
      },
      "execution_count": 75,
      "outputs": [
        {
          "name": "stdout",
          "output_type": "stream",
          "text": [
            "Introduce el primer número: 5\n",
            "Introduce el segundo número: 5\n",
            "Introduce la operación (+, -, *, /): /\n",
            "El resultado es: 1.0\n",
            "¿Desea realizar otro calculo? digite (si/no)si\n",
            "Introduce el primer número: 9\n",
            "Introduce el segundo número: 9\n",
            "Introduce la operación (+, -, *, /): *\n",
            "El resultado es: 81.0\n",
            "¿Desea realizar otro calculo? digite (si/no)no\n"
          ]
        }
      ]
    },
    {
      "cell_type": "markdown",
      "source": [
        "13. determine la calificación en letras (A, B, C, D, F) según una nota numérica (0-100).\n"
      ],
      "metadata": {
        "id": "FxTGQXFJPac-"
      }
    },
    {
      "cell_type": "code",
      "source": [
        "continuar = True\n",
        "while continuar == True:\n",
        "\n",
        "    nota = int(input(\"Introduce tu nota (0-100): \"))\n",
        "\n",
        "    if nota == 100:\n",
        "        letra = 'A'\n",
        "    elif nota >= 90:\n",
        "        letra = 'B'\n",
        "    elif nota >= 80:\n",
        "        letra = 'C'\n",
        "    elif nota >= 70:\n",
        "        letra = 'D'\n",
        "    else:\n",
        "        letra = 'F'\n",
        "\n",
        "    print(f\"Tu calificación es: {letra}\")\n",
        "    respuesta = input(\"¿Desea realizar otro calculo? digite (si/no)\")\n",
        "    if respuesta == \"si\":\n",
        "      continuar = True\n",
        "    if respuesta == \"no\":\n",
        "      continuar = False\n"
      ],
      "metadata": {
        "colab": {
          "base_uri": "https://localhost:8080/"
        },
        "id": "w2b06YJ6Pd_C",
        "outputId": "89dba1ad-8094-470d-b51c-ed3fcd527701"
      },
      "execution_count": 76,
      "outputs": [
        {
          "name": "stdout",
          "output_type": "stream",
          "text": [
            "Introduce tu nota (0-100): 58\n",
            "Tu calificación es: F\n",
            "¿Desea realizar otro calculo? digite (si/no)si\n",
            "Introduce tu nota (0-100): 98\n",
            "Tu calificación es: B\n",
            "¿Desea realizar otro calculo? digite (si/no)no\n"
          ]
        }
      ]
    },
    {
      "cell_type": "markdown",
      "source": [
        "14. determine el día de la semana según un número (1-7)."
      ],
      "metadata": {
        "id": "nMHw6AuFPtna"
      }
    },
    {
      "cell_type": "code",
      "source": [
        "continuar = True\n",
        "while continuar == True:\n",
        "\n",
        "    numero = int(input(\"Introduce un número del 1 al 7: \"))\n",
        "\n",
        "    dias = [\"Lunes\", \"Martes\", \"Miércoles\", \"Jueves\", \"Viernes\", \"Sábado\", \"Domingo\"]\n",
        "\n",
        "    if 1 <= numero <= 7:\n",
        "        print(f\"El día correspondiente es: {dias[numero-1]}\")\n",
        "    else:\n",
        "        print(\"Número no válido.\")\n",
        "\n",
        "    respuesta = input(\"¿Desea realizar otro calculo? digite (si/no)\")\n",
        "    if respuesta == \"si\":\n",
        "      continuar = True\n",
        "    if respuesta == \"no\":\n",
        "      continuar = False\n",
        "\n"
      ],
      "metadata": {
        "colab": {
          "base_uri": "https://localhost:8080/"
        },
        "id": "YnB9RvmyP4rd",
        "outputId": "1eea34f7-b18d-47a5-ea58-13a6a7f2910c"
      },
      "execution_count": 78,
      "outputs": [
        {
          "name": "stdout",
          "output_type": "stream",
          "text": [
            "Introduce un número del 1 al 7: 4\n",
            "El día correspondiente es: Jueves\n",
            "¿Desea realizar otro calculo? digite (si/no)si\n",
            "Introduce un número del 1 al 7: 3\n",
            "El día correspondiente es: Miércoles\n",
            "¿Desea realizar otro calculo? digite (si/no)no\n"
          ]
        }
      ]
    },
    {
      "cell_type": "markdown",
      "source": [
        "15. Desarrolla un programa que valide si tres números pueden formar un triángulo y de qué tipo es."
      ],
      "metadata": {
        "id": "4X7BPTYpQRJh"
      }
    },
    {
      "cell_type": "code",
      "source": [
        "continuar = True\n",
        "while continuar == True:\n",
        "\n",
        "    a = float(input(\"Introduce el primer lado: \"))\n",
        "    b = float(input(\"Introduce el segundo lado: \"))\n",
        "    c = float(input(\"Introduce el tercer lado: \"))\n",
        "\n",
        "    if a + b > c and a + c > b and b + c > a:\n",
        "        if a == b == c:\n",
        "            tipo = \"Equilátero\"\n",
        "        elif a == b or a == c or b == c:\n",
        "            tipo = \"Isósceles\"\n",
        "        else:\n",
        "            tipo = \"Escaleno\"\n",
        "        print(f\"Los lados forman un triángulo {tipo}.\")\n",
        "    else:\n",
        "        print(\"Los lados no forman un triángulo.\")\n",
        "\n",
        "    respuesta = input(\"¿Desea realizar otro calculo? digite (si/no)\")\n",
        "    if respuesta == \"si\":\n",
        "      continuar = True\n",
        "    if respuesta == \"no\":\n",
        "      continuar = False"
      ],
      "metadata": {
        "colab": {
          "base_uri": "https://localhost:8080/"
        },
        "id": "-1r7zlyqQayc",
        "outputId": "5c5f54bd-55bc-4e12-adc5-3efdad67de86"
      },
      "execution_count": 80,
      "outputs": [
        {
          "name": "stdout",
          "output_type": "stream",
          "text": [
            "Introduce el primer lado: 1\n",
            "Introduce el segundo lado: 1\n",
            "Introduce el tercer lado: 3\n",
            "Los lados no forman un triángulo.\n",
            "¿Desea realizar otro calculo? digite (si/no)si\n",
            "Introduce el primer lado: 1\n",
            "Introduce el segundo lado: 1\n",
            "Introduce el tercer lado: 1\n",
            "Los lados forman un triángulo Equilátero.\n",
            "¿Desea realizar otro calculo? digite (si/no)si\n",
            "Introduce el primer lado: 1\n",
            "Introduce el segundo lado: 2\n",
            "Introduce el tercer lado: 3\n",
            "Los lados no forman un triángulo.\n",
            "¿Desea realizar otro calculo? digite (si/no)no\n"
          ]
        }
      ]
    },
    {
      "cell_type": "markdown",
      "source": [
        "16. programa que muestre la tabla de multiplicar de un número hasta el 10."
      ],
      "metadata": {
        "id": "3uIP-vmKQl6Y"
      }
    },
    {
      "cell_type": "code",
      "source": [
        "    numero = int(input(\"Introduce un número: \"))\n",
        "\n",
        "    for i in range(1, 11):\n",
        "        print(f\"{numero} x {i} = {numero * i}\")"
      ],
      "metadata": {
        "colab": {
          "base_uri": "https://localhost:8080/"
        },
        "id": "QwXkg-x4Q0Mr",
        "outputId": "891cad74-5c72-4396-97b7-0b97a74e0b00"
      },
      "execution_count": 30,
      "outputs": [
        {
          "output_type": "stream",
          "name": "stdout",
          "text": [
            "Introduce un número: 10\n",
            "10 x 1 = 10\n",
            "10 x 2 = 20\n",
            "10 x 3 = 30\n",
            "10 x 4 = 40\n",
            "10 x 5 = 50\n",
            "10 x 6 = 60\n",
            "10 x 7 = 70\n",
            "10 x 8 = 80\n",
            "10 x 9 = 90\n",
            "10 x 10 = 100\n"
          ]
        }
      ]
    },
    {
      "cell_type": "markdown",
      "source": [
        "17. Escribe un programa que calcule la suma de números naturales hasta n."
      ],
      "metadata": {
        "id": "-pialYAXQ-CZ"
      }
    },
    {
      "cell_type": "code",
      "source": [
        "    n = int(input(\"Introduce un número: \"))\n",
        "    suma = 0\n",
        "\n",
        "    for i in range(1, n+1):\n",
        "        suma += i\n",
        "\n",
        "    print(f\"La suma de los primeros {n} números naturales es: {suma}\")"
      ],
      "metadata": {
        "colab": {
          "base_uri": "https://localhost:8080/"
        },
        "id": "N5rwvJQjRDDX",
        "outputId": "7a859d7a-42d8-4f66-b122-22de963a00e0"
      },
      "execution_count": 36,
      "outputs": [
        {
          "output_type": "stream",
          "name": "stdout",
          "text": [
            "Introduce un número: 10\n",
            "La suma de los primeros 10 números naturales es: 55\n"
          ]
        }
      ]
    },
    {
      "cell_type": "markdown",
      "source": [
        "18. Desarrolla un programa que calcule el factorial de un número. Recuerda que el factorial de 0 es 1 y no existen factoriales negativos."
      ],
      "metadata": {
        "id": "npRuFoLRRQQ7"
      }
    },
    {
      "cell_type": "code",
      "source": [
        "    n = int(input(\"Introduce un número: \"))\n",
        "    fact = 1\n",
        "\n",
        "    for i in range(1, n+1):\n",
        "        fact *= i\n",
        "\n",
        "    print(f\"El factorial de {n} es: {fact}\")\n"
      ],
      "metadata": {
        "colab": {
          "base_uri": "https://localhost:8080/"
        },
        "id": "X2gmBUBMRTw4",
        "outputId": "d936f256-880a-4e3d-aba8-258087ac83e2"
      },
      "execution_count": 39,
      "outputs": [
        {
          "output_type": "stream",
          "name": "stdout",
          "text": [
            "Introduce un número: 0\n",
            "El factorial de 0 es: 1\n"
          ]
        }
      ]
    },
    {
      "cell_type": "markdown",
      "source": [
        "19. Crea un programa que muestre los primeros n números de la serie Fibonacci."
      ],
      "metadata": {
        "id": "48FplUU5RluA"
      }
    },
    {
      "cell_type": "code",
      "source": [
        "    n = int(input(\"Introduce el número de términos: \"))\n",
        "    a, b = 0, 1\n",
        "\n",
        "    for i in range(n):\n",
        "        print(a, end=\" \")\n",
        "        a, b = b, a + b"
      ],
      "metadata": {
        "colab": {
          "base_uri": "https://localhost:8080/"
        },
        "id": "tjBme_btRuXc",
        "outputId": "a05fed70-3350-4c3f-a826-606641cf2090"
      },
      "execution_count": 46,
      "outputs": [
        {
          "output_type": "stream",
          "name": "stdout",
          "text": [
            "Introduce el número de términos: 24\n",
            "0 1 1 2 3 5 8 13 21 34 55 89 144 233 377 610 987 1597 2584 4181 6765 10946 17711 28657 "
          ]
        }
      ]
    },
    {
      "cell_type": "markdown",
      "source": [
        "20. Escribe un programa que adivine entre un conjunto de diez colores definidos por el usuario, con un máximo de 10 intentos."
      ],
      "metadata": {
        "id": "MBfpoyS4SETU"
      }
    },
    {
      "cell_type": "code",
      "source": [
        "import random\n",
        "\n",
        "colores = input(\"Introduce 10 colores separados por comas: \").split(',')\n",
        "color_correcto = random.choice(colores)\n",
        "intentos = 0\n",
        "\n",
        "while intentos < 10:\n",
        "    intentos += 1\n",
        "    adivinanza = input(\"Adivina un color: \")\n",
        "\n",
        "    if adivinanza == color_correcto:\n",
        "        print(f\"¡Correcto! Adivinaste el color {color_correcto} en {intentos} intentos.\")\n",
        "        break\n",
        "    else:\n",
        "        print(f\"Incorrecto, llevas {intentos} intentos.\")\n",
        "else:\n",
        "    print(f\"Has agotado tus 10 intentos. El color correcto era: {color_correcto}\")"
      ],
      "metadata": {
        "colab": {
          "base_uri": "https://localhost:8080/"
        },
        "id": "5M7_xZA-SJE7",
        "outputId": "5dc703fd-fa02-4e31-fc58-545a85c731dc"
      },
      "execution_count": 63,
      "outputs": [
        {
          "output_type": "stream",
          "name": "stdout",
          "text": [
            "Introduce 10 colores separados por comas: rojo,azul,verde,amarillo,naranja,morado,rosa,blanco,negro,gris\n",
            "Adivina un color: rojo\n",
            "Incorrecto, llevas 1 intentos.\n",
            "Adivina un color: azul\n",
            "Incorrecto, llevas 2 intentos.\n",
            "Adivina un color: verde\n",
            "¡Correcto! Adivinaste el color verde en 3 intentos.\n"
          ]
        }
      ]
    }
  ]
}