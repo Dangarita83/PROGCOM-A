{
  "nbformat": 4,
  "nbformat_minor": 0,
  "metadata": {
    "colab": {
      "provenance": [],
      "authorship_tag": "ABX9TyPi7vJZSBtf223ocDekylZd",
      "include_colab_link": true
    },
    "kernelspec": {
      "name": "python3",
      "display_name": "Python 3"
    },
    "language_info": {
      "name": "python"
    }
  },
  "cells": [
    {
      "cell_type": "markdown",
      "metadata": {
        "id": "view-in-github",
        "colab_type": "text"
      },
      "source": [
        "<a href=\"https://colab.research.google.com/github/Dangarita83/PROGCOM-A/blob/main/%5BPROGCOM_A%5D_CQ6_Palabras_David_Angarita.ipynb\" target=\"_parent\"><img src=\"https://colab.research.google.com/assets/colab-badge.svg\" alt=\"Open In Colab\"/></a>"
      ]
    },
    {
      "cell_type": "markdown",
      "source": [
        "False: Representa el valor booleano falso."
      ],
      "metadata": {
        "id": "aWWcjD8rl556"
      }
    },
    {
      "cell_type": "code",
      "source": [
        "a = False\n",
        "print(a)  # Output: False\n"
      ],
      "metadata": {
        "colab": {
          "base_uri": "https://localhost:8080/"
        },
        "id": "HtO5ekrcl-RB",
        "outputId": "ea9f35d3-ceee-485e-e1a6-406dcf21994c"
      },
      "execution_count": 1,
      "outputs": [
        {
          "output_type": "stream",
          "name": "stdout",
          "text": [
            "False\n"
          ]
        }
      ]
    },
    {
      "cell_type": "markdown",
      "source": [
        "None: Representa la ausencia de un valor o un objeto vacío.\n"
      ],
      "metadata": {
        "id": "O_A7n8gumALv"
      }
    },
    {
      "cell_type": "code",
      "source": [
        "x = None\n",
        "print(x)  # Output: None\n"
      ],
      "metadata": {
        "colab": {
          "base_uri": "https://localhost:8080/"
        },
        "id": "xMuvp3FwmDEy",
        "outputId": "d5409079-c131-4d54-9628-280d08821b7f"
      },
      "execution_count": 2,
      "outputs": [
        {
          "output_type": "stream",
          "name": "stdout",
          "text": [
            "None\n"
          ]
        }
      ]
    },
    {
      "cell_type": "markdown",
      "source": [
        "True: Representa el valor booleano verdadero."
      ],
      "metadata": {
        "id": "xmlrpoJKmDjm"
      }
    },
    {
      "cell_type": "code",
      "source": [
        "b = True\n",
        "print(b)  # Output: True\n"
      ],
      "metadata": {
        "colab": {
          "base_uri": "https://localhost:8080/"
        },
        "id": "gKfcwggimFtO",
        "outputId": "13cdd869-1a8f-4c96-80de-7d259cda1c2d"
      },
      "execution_count": 3,
      "outputs": [
        {
          "output_type": "stream",
          "name": "stdout",
          "text": [
            "True\n"
          ]
        }
      ]
    },
    {
      "cell_type": "markdown",
      "source": [
        "and: Operador lógico que evalúa si ambas condiciones son verdaderas."
      ],
      "metadata": {
        "id": "JArnT79amG2O"
      }
    },
    {
      "cell_type": "code",
      "source": [
        "x = True\n",
        "y = False\n",
        "print(x and y)  # Output: False\n"
      ],
      "metadata": {
        "colab": {
          "base_uri": "https://localhost:8080/"
        },
        "id": "c33DYlHzmI59",
        "outputId": "5a1d3945-8b64-45ca-80f2-afcbb2ce0c12"
      },
      "execution_count": 4,
      "outputs": [
        {
          "output_type": "stream",
          "name": "stdout",
          "text": [
            "False\n"
          ]
        }
      ]
    },
    {
      "cell_type": "markdown",
      "source": [
        "as: Se usa para renombrar módulos o elementos importados."
      ],
      "metadata": {
        "id": "UVDbMr2ymOqw"
      }
    },
    {
      "cell_type": "code",
      "source": [
        "import math as m\n",
        "print(m.sqrt(25))  # Output: 5.0\n"
      ],
      "metadata": {
        "colab": {
          "base_uri": "https://localhost:8080/"
        },
        "id": "WwNGELzSmNn4",
        "outputId": "3c9e7a07-afaf-4a15-a1e8-d580aa1cd3e9"
      },
      "execution_count": 5,
      "outputs": [
        {
          "output_type": "stream",
          "name": "stdout",
          "text": [
            "5.0\n"
          ]
        }
      ]
    },
    {
      "cell_type": "markdown",
      "source": [
        "assert: Se usa para depuración, asegurando que una condición sea verdadera."
      ],
      "metadata": {
        "id": "UGjGUZL_mSYy"
      }
    },
    {
      "cell_type": "code",
      "source": [
        "x = 5\n",
        "assert x > 0  # No genera error porque la condición es verdadera\n"
      ],
      "metadata": {
        "id": "a6Aoyy03mThb"
      },
      "execution_count": null,
      "outputs": []
    },
    {
      "cell_type": "markdown",
      "source": [
        "break: Termina un bucle antes de que se complete.\n"
      ],
      "metadata": {
        "id": "m7pyPEz4mU2k"
      }
    },
    {
      "cell_type": "code",
      "source": [
        "for i in range(5):\n",
        "    if i == 3:\n",
        "        break\n",
        "    print(i)"
      ],
      "metadata": {
        "colab": {
          "base_uri": "https://localhost:8080/"
        },
        "id": "qO3uFjj8mWY3",
        "outputId": "e0e4587f-fe7f-47b0-88b4-7eea1eaf12cc"
      },
      "execution_count": 7,
      "outputs": [
        {
          "output_type": "stream",
          "name": "stdout",
          "text": [
            "0\n",
            "1\n",
            "2\n"
          ]
        }
      ]
    },
    {
      "cell_type": "markdown",
      "source": [
        "class: Define una clase en Python."
      ],
      "metadata": {
        "id": "CUO4y5bvma13"
      }
    },
    {
      "cell_type": "code",
      "source": [
        "class Persona:\n",
        "    def __init__(self, nombre):\n",
        "        self.nombre = nombre\n",
        "\n",
        "p = Persona(\"Ana\")\n",
        "print(p.nombre)\n"
      ],
      "metadata": {
        "colab": {
          "base_uri": "https://localhost:8080/"
        },
        "id": "I5X4npimmbv-",
        "outputId": "a7e693d1-e3ff-4ce1-ea96-def9b0d8ed93"
      },
      "execution_count": 9,
      "outputs": [
        {
          "output_type": "stream",
          "name": "stdout",
          "text": [
            "Ana\n"
          ]
        }
      ]
    },
    {
      "cell_type": "markdown",
      "source": [
        "continue: Salta la iteración actual en un bucle y pasa a la siguiente."
      ],
      "metadata": {
        "id": "a6iaa_KymeIO"
      }
    },
    {
      "cell_type": "code",
      "source": [
        "for i in range(5):\n",
        "    if i == 2:\n",
        "        continue\n",
        "    print(i)\n"
      ],
      "metadata": {
        "colab": {
          "base_uri": "https://localhost:8080/"
        },
        "id": "Pwc6jk7fmfHV",
        "outputId": "a4c35c29-dcd5-4c67-cb56-36da23b625e5"
      },
      "execution_count": 11,
      "outputs": [
        {
          "output_type": "stream",
          "name": "stdout",
          "text": [
            "0\n",
            "1\n",
            "3\n",
            "4\n"
          ]
        }
      ]
    },
    {
      "cell_type": "markdown",
      "source": [
        "def: Define una función en Python."
      ],
      "metadata": {
        "id": "IdYdO6Lfmg9K"
      }
    },
    {
      "cell_type": "code",
      "source": [
        "def saludo():\n",
        "    print(\"Hola\")\n",
        "saludo()\n"
      ],
      "metadata": {
        "colab": {
          "base_uri": "https://localhost:8080/"
        },
        "id": "SNnQUH9CmiQq",
        "outputId": "2c732f8f-7def-4e15-8001-a9e4a5bbb8ff"
      },
      "execution_count": 10,
      "outputs": [
        {
          "output_type": "stream",
          "name": "stdout",
          "text": [
            "Hola\n"
          ]
        }
      ]
    },
    {
      "cell_type": "markdown",
      "source": [
        "del: Elimina una variable, objeto o elemento de una lista."
      ],
      "metadata": {
        "id": "hidciwbRmlpK"
      }
    },
    {
      "cell_type": "code",
      "source": [
        "lista = [1, 2, 3]\n",
        "del lista[1]\n",
        "print(lista)  # Output: [1, 3]\n"
      ],
      "metadata": {
        "colab": {
          "base_uri": "https://localhost:8080/"
        },
        "id": "WZccQAJAmn9T",
        "outputId": "54ee0758-cb35-4771-91d7-e19b8f71fc34"
      },
      "execution_count": 15,
      "outputs": [
        {
          "output_type": "stream",
          "name": "stdout",
          "text": [
            "[1, 3]\n"
          ]
        }
      ]
    },
    {
      "cell_type": "markdown",
      "source": [
        "elif: Se usa en estructuras condicionales como alternativa a if."
      ],
      "metadata": {
        "id": "OD4YAYnVmpjO"
      }
    },
    {
      "cell_type": "code",
      "source": [
        "x = 10\n",
        "if x < 5:\n",
        "    print(\"Menor que 5\")\n",
        "elif x == 10:\n",
        "    print(\"Es 10\")  # Output: Es 10\n"
      ],
      "metadata": {
        "colab": {
          "base_uri": "https://localhost:8080/"
        },
        "id": "56XdrEb4mqlO",
        "outputId": "3db69428-3772-4bab-d3f4-2790006ba638"
      },
      "execution_count": 14,
      "outputs": [
        {
          "output_type": "stream",
          "name": "stdout",
          "text": [
            "Es 10\n"
          ]
        }
      ]
    },
    {
      "cell_type": "markdown",
      "source": [
        "else: Se usa en estructuras condicionales para definir un caso por defecto."
      ],
      "metadata": {
        "id": "n4HZSRZ6mr4I"
      }
    },
    {
      "cell_type": "code",
      "source": [
        "x = 3\n",
        "if x > 5:\n",
        "    print(\"Mayor que 5\")\n",
        "else:\n",
        "    print(\"No es mayor que 5\")  # Output: No es mayor que 5\n"
      ],
      "metadata": {
        "colab": {
          "base_uri": "https://localhost:8080/"
        },
        "id": "umXL0R9QmsvU",
        "outputId": "798de82f-66a9-4bfa-cf7e-5c4f8447f4c8"
      },
      "execution_count": 13,
      "outputs": [
        {
          "output_type": "stream",
          "name": "stdout",
          "text": [
            "No es mayor que 5\n"
          ]
        }
      ]
    },
    {
      "cell_type": "markdown",
      "source": [
        "except: Se usa para manejar excepciones en un bloque try."
      ],
      "metadata": {
        "id": "SX2Lyi5CmuGO"
      }
    },
    {
      "cell_type": "code",
      "source": [
        "try:\n",
        "    x = 1 / 0\n",
        "except ZeroDivisionError:\n",
        "    print(\"No se puede dividir por cero\")  # Output: No se puede dividir por cero\n"
      ],
      "metadata": {
        "colab": {
          "base_uri": "https://localhost:8080/"
        },
        "id": "aWJRAt5hmvmQ",
        "outputId": "34e48664-b748-4b47-fcdf-85d02c6cf8b9"
      },
      "execution_count": 12,
      "outputs": [
        {
          "output_type": "stream",
          "name": "stdout",
          "text": [
            "No se puede dividir por cero\n"
          ]
        }
      ]
    },
    {
      "cell_type": "markdown",
      "source": [
        "finally: Se usa en manejo de excepciones para ejecutar código después de try y except, sin importar si hubo un error o no."
      ],
      "metadata": {
        "id": "77CkYJrOnuEV"
      }
    },
    {
      "cell_type": "code",
      "source": [
        "try:\n",
        "    x = 1 / 0\n",
        "except ZeroDivisionError:\n",
        "    print(\"Error: División por cero\")\n",
        "finally:\n",
        "    print(\"Este bloque siempre se ejecuta\")\n",
        "# Output:\n",
        "# Error: División por cero\n",
        "# Este bloque siempre se ejecuta\n"
      ],
      "metadata": {
        "colab": {
          "base_uri": "https://localhost:8080/"
        },
        "id": "GzwwDCGUnvFD",
        "outputId": "d9f5a8ea-c215-451d-d4c1-0761f44934a0"
      },
      "execution_count": 16,
      "outputs": [
        {
          "output_type": "stream",
          "name": "stdout",
          "text": [
            "Error: División por cero\n",
            "Este bloque siempre se ejecuta\n"
          ]
        }
      ]
    },
    {
      "cell_type": "markdown",
      "source": [
        "for: Se usa para crear bucles que iteran sobre una secuencia."
      ],
      "metadata": {
        "id": "jJI8KHmfnxyA"
      }
    },
    {
      "cell_type": "code",
      "source": [
        "for i in range(3):\n",
        "    print(i)\n",
        "# Output:\n",
        "# 0\n",
        "# 1\n",
        "# 2\n"
      ],
      "metadata": {
        "colab": {
          "base_uri": "https://localhost:8080/"
        },
        "id": "t_rox2EanyoG",
        "outputId": "f9234351-1b87-41b9-fe6a-657e21e0b42b"
      },
      "execution_count": 19,
      "outputs": [
        {
          "output_type": "stream",
          "name": "stdout",
          "text": [
            "0\n",
            "1\n",
            "2\n"
          ]
        }
      ]
    },
    {
      "cell_type": "markdown",
      "source": [
        "from: Se usa para importar partes específicas de un módulo."
      ],
      "metadata": {
        "id": "Jx896LOsnzI7"
      }
    },
    {
      "cell_type": "code",
      "source": [
        "from math import sqrt\n",
        "print(sqrt(25))  # Output: 5.0\n"
      ],
      "metadata": {
        "colab": {
          "base_uri": "https://localhost:8080/"
        },
        "id": "gjW-IAvYn1LQ",
        "outputId": "5d8519c6-fabd-4dfe-9d29-dba0287aecae"
      },
      "execution_count": 20,
      "outputs": [
        {
          "output_type": "stream",
          "name": "stdout",
          "text": [
            "5.0\n"
          ]
        }
      ]
    },
    {
      "cell_type": "markdown",
      "source": [
        "global: Declara una variable como global dentro de una función."
      ],
      "metadata": {
        "id": "bnl71paBn1j8"
      }
    },
    {
      "cell_type": "code",
      "source": [
        "x = 10\n",
        "def cambiar_x():\n",
        "    global x\n",
        "    x = 20\n",
        "cambiar_x()\n",
        "print(x)  # Output: 20\n"
      ],
      "metadata": {
        "colab": {
          "base_uri": "https://localhost:8080/"
        },
        "id": "ZP4BMX7gn3WI",
        "outputId": "b75db1b9-6047-43e6-fb1c-fdba05639cdd"
      },
      "execution_count": 21,
      "outputs": [
        {
          "output_type": "stream",
          "name": "stdout",
          "text": [
            "20\n"
          ]
        }
      ]
    },
    {
      "cell_type": "markdown",
      "source": [
        "if: Define una estructura condicional."
      ],
      "metadata": {
        "id": "3riJFVj5n4kY"
      }
    },
    {
      "cell_type": "code",
      "source": [
        "x = 10\n",
        "if x > 5:\n",
        "    print(\"Mayor que 5\")  # Output: Mayor que 5\n"
      ],
      "metadata": {
        "colab": {
          "base_uri": "https://localhost:8080/"
        },
        "id": "YDOlUJd7n5cX",
        "outputId": "124d1246-11f1-4d43-b9f6-3c9fd075b057"
      },
      "execution_count": 22,
      "outputs": [
        {
          "output_type": "stream",
          "name": "stdout",
          "text": [
            "Mayor que 5\n"
          ]
        }
      ]
    },
    {
      "cell_type": "markdown",
      "source": [
        "import: Se usa para importar módulos en Python.\n",
        "\n"
      ],
      "metadata": {
        "id": "vY4bO_0bn8AZ"
      }
    },
    {
      "cell_type": "code",
      "source": [
        "import math\n",
        "print(math.pi)  # Output: 3.141592653589793\n"
      ],
      "metadata": {
        "colab": {
          "base_uri": "https://localhost:8080/"
        },
        "id": "64uX8E2En9ll",
        "outputId": "3fca4718-9edc-4c1b-cb1b-2f10428a6614"
      },
      "execution_count": 23,
      "outputs": [
        {
          "output_type": "stream",
          "name": "stdout",
          "text": [
            "3.141592653589793\n"
          ]
        }
      ]
    },
    {
      "cell_type": "markdown",
      "source": [
        "in: Verifica si un elemento está dentro de una secuencia (lista, tupla, etc.)."
      ],
      "metadata": {
        "id": "xb6LivNEn_DH"
      }
    },
    {
      "cell_type": "code",
      "source": [
        "lista = [1, 2, 3, 4]\n",
        "print(3 in lista)  # Output: True\n"
      ],
      "metadata": {
        "colab": {
          "base_uri": "https://localhost:8080/"
        },
        "id": "NJps-l8qoAmC",
        "outputId": "0facca94-38da-4bc0-941e-b457a75a0a19"
      },
      "execution_count": 24,
      "outputs": [
        {
          "output_type": "stream",
          "name": "stdout",
          "text": [
            "True\n"
          ]
        }
      ]
    },
    {
      "cell_type": "markdown",
      "source": [
        "is: Compara si dos variables apuntan al mismo objeto en memoria."
      ],
      "metadata": {
        "id": "Oa3mSewjoEuR"
      }
    },
    {
      "cell_type": "code",
      "source": [
        "a = [1, 2, 3]\n",
        "b = a\n",
        "print(a is b)  # Output: True\n"
      ],
      "metadata": {
        "colab": {
          "base_uri": "https://localhost:8080/"
        },
        "id": "N2se542HoFvQ",
        "outputId": "dce87ca5-332a-4fd2-e3da-d3febc9b1736"
      },
      "execution_count": 25,
      "outputs": [
        {
          "output_type": "stream",
          "name": "stdout",
          "text": [
            "True\n"
          ]
        }
      ]
    },
    {
      "cell_type": "markdown",
      "source": [
        "lambda: Define funciones anónimas en una sola línea."
      ],
      "metadata": {
        "id": "rUbUJNU1oHMU"
      }
    },
    {
      "cell_type": "code",
      "source": [
        "cuadrado = lambda x: x * x\n",
        "print(cuadrado(4))  # Output: 16\n"
      ],
      "metadata": {
        "colab": {
          "base_uri": "https://localhost:8080/"
        },
        "id": "E9rvv5nsoIKq",
        "outputId": "7fe7fd73-ad43-46f2-bb39-9c4c4e3e838e"
      },
      "execution_count": 26,
      "outputs": [
        {
          "output_type": "stream",
          "name": "stdout",
          "text": [
            "16\n"
          ]
        }
      ]
    },
    {
      "cell_type": "markdown",
      "source": [
        "nonlocal: Permite modificar variables de un ámbito externo dentro de una función anidada."
      ],
      "metadata": {
        "id": "s6ZqrWgQoKMB"
      }
    },
    {
      "cell_type": "code",
      "source": [
        "def externa():\n",
        "    x = \"Hola\"\n",
        "    def interna():\n",
        "        nonlocal x\n",
        "        x = \"Mundo\"\n",
        "    interna()\n",
        "    print(x)\n",
        "externa()  # Output: Mundo\n"
      ],
      "metadata": {
        "colab": {
          "base_uri": "https://localhost:8080/"
        },
        "id": "M0CF5nYcoLUZ",
        "outputId": "19e1f37c-fde4-4e1a-ca93-99c49f5fdc98"
      },
      "execution_count": 27,
      "outputs": [
        {
          "output_type": "stream",
          "name": "stdout",
          "text": [
            "Mundo\n"
          ]
        }
      ]
    },
    {
      "cell_type": "markdown",
      "source": [
        "not: Operador lógico de negación."
      ],
      "metadata": {
        "id": "nUn2bnynoNL-"
      }
    },
    {
      "cell_type": "code",
      "source": [
        "print(not True)  # Output: False\n"
      ],
      "metadata": {
        "colab": {
          "base_uri": "https://localhost:8080/"
        },
        "id": "B1R5u_k0oOA7",
        "outputId": "1e280df0-607e-4ee4-cc78-01d82ea31f01"
      },
      "execution_count": 28,
      "outputs": [
        {
          "output_type": "stream",
          "name": "stdout",
          "text": [
            "False\n"
          ]
        }
      ]
    },
    {
      "cell_type": "markdown",
      "source": [
        "or: Operador lógico que devuelve True si al menos una condición es verdadera."
      ],
      "metadata": {
        "id": "mNMYM1apoPLk"
      }
    },
    {
      "cell_type": "code",
      "source": [
        "print(True or False)  # Output: True\n"
      ],
      "metadata": {
        "colab": {
          "base_uri": "https://localhost:8080/"
        },
        "id": "_e-u76xloQBi",
        "outputId": "14dce6ee-7263-4988-cb05-a6dc3b42b148"
      },
      "execution_count": 29,
      "outputs": [
        {
          "output_type": "stream",
          "name": "stdout",
          "text": [
            "True\n"
          ]
        }
      ]
    },
    {
      "cell_type": "markdown",
      "source": [
        "pass: Se usa como marcador de posición en código que aún no se implementa."
      ],
      "metadata": {
        "id": "rfmtRAGGoRdE"
      }
    },
    {
      "cell_type": "code",
      "source": [
        "def funcion():\n",
        "    pass  # No hace nada\n"
      ],
      "metadata": {
        "id": "ew1LXMJtoSSb"
      },
      "execution_count": 30,
      "outputs": []
    },
    {
      "cell_type": "markdown",
      "source": [
        "raise: Lanza una excepción personalizada."
      ],
      "metadata": {
        "id": "3jK_pobIoTr9"
      }
    },
    {
      "cell_type": "code",
      "source": [
        "raise ValueError(\"Este es un error personalizado\")\n"
      ],
      "metadata": {
        "colab": {
          "base_uri": "https://localhost:8080/",
          "height": 141
        },
        "id": "ZZDn0CszoUtz",
        "outputId": "687ffd1b-8918-47e9-9a9a-ca9871410b95"
      },
      "execution_count": 31,
      "outputs": [
        {
          "output_type": "error",
          "ename": "ValueError",
          "evalue": "Este es un error personalizado",
          "traceback": [
            "\u001b[0;31m---------------------------------------------------------------------------\u001b[0m",
            "\u001b[0;31mValueError\u001b[0m                                Traceback (most recent call last)",
            "\u001b[0;32m<ipython-input-31-5f7726357a3f>\u001b[0m in \u001b[0;36m<cell line: 0>\u001b[0;34m()\u001b[0m\n\u001b[0;32m----> 1\u001b[0;31m \u001b[0;32mraise\u001b[0m \u001b[0mValueError\u001b[0m\u001b[0;34m(\u001b[0m\u001b[0;34m\"Este es un error personalizado\"\u001b[0m\u001b[0;34m)\u001b[0m\u001b[0;34m\u001b[0m\u001b[0;34m\u001b[0m\u001b[0m\n\u001b[0m",
            "\u001b[0;31mValueError\u001b[0m: Este es un error personalizado"
          ]
        }
      ]
    },
    {
      "cell_type": "markdown",
      "source": [
        "return: Devuelve un valor desde una función."
      ],
      "metadata": {
        "id": "Z7J6osuOoVvz"
      }
    },
    {
      "cell_type": "code",
      "source": [
        "def suma(a, b):\n",
        "    return a + b\n",
        "print(suma(3, 4))  # Output: 7\n"
      ],
      "metadata": {
        "colab": {
          "base_uri": "https://localhost:8080/"
        },
        "id": "tAePS6tqoWu1",
        "outputId": "ee8cb475-ed5b-4c3c-d3f4-e9c3f2381446"
      },
      "execution_count": 32,
      "outputs": [
        {
          "output_type": "stream",
          "name": "stdout",
          "text": [
            "7\n"
          ]
        }
      ]
    },
    {
      "cell_type": "markdown",
      "source": [
        "try: Se usa para manejar excepciones."
      ],
      "metadata": {
        "id": "yhie3BDaoYIu"
      }
    },
    {
      "cell_type": "code",
      "source": [
        "try:\n",
        "    x = 1 / 0\n",
        "except ZeroDivisionError:\n",
        "    print(\"No se puede dividir por cero\")\n"
      ],
      "metadata": {
        "colab": {
          "base_uri": "https://localhost:8080/"
        },
        "id": "5aBYjZw_oZCL",
        "outputId": "12535b82-4a0a-4bee-f221-e894aed39d93"
      },
      "execution_count": 33,
      "outputs": [
        {
          "output_type": "stream",
          "name": "stdout",
          "text": [
            "No se puede dividir por cero\n"
          ]
        }
      ]
    },
    {
      "cell_type": "markdown",
      "source": [
        "while: Crea un bucle que se ejecuta mientras la condición sea True."
      ],
      "metadata": {
        "id": "nLiTXjdDoadV"
      }
    },
    {
      "cell_type": "code",
      "source": [
        "x = 0\n",
        "while x < 3:\n",
        "    print(x)\n",
        "    x += 1\n",
        "# Output:\n",
        "# 0\n",
        "# 1\n",
        "# 2\n"
      ],
      "metadata": {
        "colab": {
          "base_uri": "https://localhost:8080/"
        },
        "id": "KKj_4Sa8obVU",
        "outputId": "1152b8d0-86a8-42e0-da42-6aeffd8f0faa"
      },
      "execution_count": 34,
      "outputs": [
        {
          "output_type": "stream",
          "name": "stdout",
          "text": [
            "0\n",
            "1\n",
            "2\n"
          ]
        }
      ]
    },
    {
      "cell_type": "markdown",
      "source": [
        "with: Se usa para manejar archivos y otros recursos de manera segura."
      ],
      "metadata": {
        "id": "86R4xK8iocum"
      }
    },
    {
      "cell_type": "code",
      "source": [
        "with open(\"archivo.txt\", \"w\") as archivo:\n",
        "    archivo.write(\"Hola mundo\")\n"
      ],
      "metadata": {
        "id": "EWMxM65kodms"
      },
      "execution_count": 36,
      "outputs": []
    },
    {
      "cell_type": "markdown",
      "source": [
        "yield: Se usa en funciones generadoras para retornar valores de manera paulatina."
      ],
      "metadata": {
        "id": "TdoKDz8yof30"
      }
    },
    {
      "cell_type": "code",
      "source": [
        "def generador():\n",
        "    yield 1\n",
        "    yield 2\n",
        "    yield 3\n",
        "gen = generador()\n",
        "print(next(gen))  # Output: 1\n",
        "print(next(gen))  # Output: 2\n"
      ],
      "metadata": {
        "colab": {
          "base_uri": "https://localhost:8080/"
        },
        "id": "coP3IVYcog_d",
        "outputId": "21f4acff-6985-41f9-c14b-95d20d2a0f61"
      },
      "execution_count": 18,
      "outputs": [
        {
          "output_type": "stream",
          "name": "stdout",
          "text": [
            "1\n",
            "2\n"
          ]
        }
      ]
    }
  ]
}