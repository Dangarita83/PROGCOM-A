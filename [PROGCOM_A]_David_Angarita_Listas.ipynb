{
  "nbformat": 4,
  "nbformat_minor": 0,
  "metadata": {
    "colab": {
      "provenance": []
    },
    "kernelspec": {
      "name": "python3",
      "display_name": "Python 3"
    },
    "language_info": {
      "name": "python"
    }
  },
  "cells": [
    {
      "cell_type": "code",
      "execution_count": 11,
      "metadata": {
        "colab": {
          "base_uri": "https://localhost:8080/"
        },
        "id": "YBkx4GfamYrJ",
        "outputId": "c33b8485-72ec-4752-922a-16531bf8fbfb"
      },
      "outputs": [
        {
          "output_type": "stream",
          "name": "stdout",
          "text": [
            "Introduce el primer lado: 2\n",
            "Introduce el segundo lado: 2\n",
            "Introduce el tercer lado: 2\n",
            "Los lados forman un triángulo Equilátero.\n"
          ]
        }
      ],
      "source": [
        "    a = float(input(\"Introduce el primer lado: \"))\n",
        "    b = float(input(\"Introduce el segundo lado: \"))\n",
        "    c = float(input(\"Introduce el tercer lado: \"))\n",
        "\n",
        "    if a + b > c and a + c > b and b + c > a:\n",
        "        if a == b == c:\n",
        "            tipo = \"Equilátero\"\n",
        "        elif a == b or a == c or b == c:\n",
        "            tipo = \"Isósceles\"\n",
        "        else:\n",
        "            tipo = \"Escaleno\"\n",
        "        print(f\"Los lados forman un triángulo {tipo}.\")\n",
        "    else:\n",
        "        print(\"Los lados no forman un triángulo.\")\n"
      ]
    },
    {
      "cell_type": "code",
      "source": [
        "numero = int(input(\"Ingresa un número: \"))\n",
        "tabla = [numero * i for i in range(1, 11)]\n",
        "for i, valor in enumerate(tabla, start=1):\n",
        "    print(f\"{numero} x {i} = {valor}\")"
      ],
      "metadata": {
        "colab": {
          "base_uri": "https://localhost:8080/"
        },
        "id": "FHx9vO01nEUm",
        "outputId": "5ca80b0c-24ef-4c3b-9b51-5c88e770c5c4"
      },
      "execution_count": 12,
      "outputs": [
        {
          "output_type": "stream",
          "name": "stdout",
          "text": [
            "Ingresa un número: 10\n",
            "10 x 1 = 10\n",
            "10 x 2 = 20\n",
            "10 x 3 = 30\n",
            "10 x 4 = 40\n",
            "10 x 5 = 50\n",
            "10 x 6 = 60\n",
            "10 x 7 = 70\n",
            "10 x 8 = 80\n",
            "10 x 9 = 90\n",
            "10 x 10 = 100\n"
          ]
        }
      ]
    },
    {
      "cell_type": "code",
      "source": [
        "n = int(input(\"Ingresa un número: \"))\n",
        "numeros = list(range(1, n + 1))\n",
        "suma = sum(numeros)\n",
        "print(f\"La suma de los números naturales hasta {n} es: {suma}\")"
      ],
      "metadata": {
        "colab": {
          "base_uri": "https://localhost:8080/"
        },
        "id": "5ilBGrjBoNqp",
        "outputId": "904b2051-6a7a-4f2b-b45f-1d891f35ab03"
      },
      "execution_count": 13,
      "outputs": [
        {
          "output_type": "stream",
          "name": "stdout",
          "text": [
            "Ingresa un número: 10\n",
            "La suma de los números naturales hasta 10 es: 55\n"
          ]
        }
      ]
    },
    {
      "cell_type": "code",
      "source": [
        "n = int(input(\"Ingresa un número: \"))\n",
        "if n < 0:\n",
        "    print(\"No existen factoriales negativos.\")\n",
        "elif n == 0:\n",
        "    print(\"El factorial de 0 es 1.\")\n",
        "else:\n",
        "    factorial = 1\n",
        "    numeros = list(range(1, n + 1))\n",
        "    for num in numeros:\n",
        "        factorial *= num\n",
        "    print(f\"El factorial de {n} es: {factorial}\")"
      ],
      "metadata": {
        "colab": {
          "base_uri": "https://localhost:8080/"
        },
        "id": "gwc5I0HmoPwe",
        "outputId": "1f3bad3f-8a2c-45a0-ce11-9a235f2b372e"
      },
      "execution_count": 14,
      "outputs": [
        {
          "output_type": "stream",
          "name": "stdout",
          "text": [
            "Ingresa un número: 10\n",
            "El factorial de 10 es: 3628800\n"
          ]
        }
      ]
    },
    {
      "cell_type": "code",
      "source": [
        "n = int(input(\"Ingresa un número: \"))\n",
        "fibonacci = [0, 1]\n",
        "for i in range(2, n):\n",
        "    fibonacci.append(fibonacci[i-1] + fibonacci[i-2])\n",
        "print(fibonacci[:n])"
      ],
      "metadata": {
        "colab": {
          "base_uri": "https://localhost:8080/"
        },
        "id": "ysmwhAK3oVOI",
        "outputId": "1609de8b-11dd-4bfe-eda8-eb165e5288c0"
      },
      "execution_count": 15,
      "outputs": [
        {
          "output_type": "stream",
          "name": "stdout",
          "text": [
            "Ingresa un número: 5\n",
            "[0, 1, 1, 2, 3]\n"
          ]
        }
      ]
    },
    {
      "cell_type": "code",
      "source": [
        "colores = [input(f\"Ingresa el color {i+1}: \") for i in range(10)]\n",
        "intentos = 0\n",
        "while intentos < 10:\n",
        "    intento = input(\"Adivina un color: \")\n",
        "    if intento in colores:\n",
        "        print(f\"¡Correcto! {intento} está en la lista.\")\n",
        "        break\n",
        "    else:\n",
        "        print(\"Incorrecto. Intenta de nuevo.\")\n",
        "        intentos += 1\n",
        "else:\n",
        "    print(\"Has agotado tus 10 intentos.\")"
      ],
      "metadata": {
        "colab": {
          "base_uri": "https://localhost:8080/"
        },
        "id": "LoqN_NamoZQS",
        "outputId": "625ea17a-556f-421b-97fd-1df83981e639"
      },
      "execution_count": 18,
      "outputs": [
        {
          "output_type": "stream",
          "name": "stdout",
          "text": [
            "Ingresa el color 1: rojo\n",
            "Ingresa el color 2: azul\n",
            "Ingresa el color 3: verde\n",
            "Ingresa el color 4: gris\n",
            "Ingresa el color 5: amarillo\n",
            "Ingresa el color 6: rosado\n",
            "Ingresa el color 7: dorado\n",
            "Ingresa el color 8: morado\n",
            "Ingresa el color 9: negro\n",
            "Ingresa el color 10: blanco\n",
            "Adivina un color: rojo\n",
            "¡Correcto! rojo está en la lista.\n"
          ]
        }
      ]
    },
    {
      "cell_type": "code",
      "source": [
        "numeros = list(range(1, 101))\n",
        "pares = [num for num in numeros if num % 2 == 0]\n",
        "print(pares)"
      ],
      "metadata": {
        "colab": {
          "base_uri": "https://localhost:8080/"
        },
        "id": "dV9N6ANwopGA",
        "outputId": "0f7b02c5-846b-4f7b-b8c8-e1d7f015d8b2"
      },
      "execution_count": 19,
      "outputs": [
        {
          "output_type": "stream",
          "name": "stdout",
          "text": [
            "[2, 4, 6, 8, 10, 12, 14, 16, 18, 20, 22, 24, 26, 28, 30, 32, 34, 36, 38, 40, 42, 44, 46, 48, 50, 52, 54, 56, 58, 60, 62, 64, 66, 68, 70, 72, 74, 76, 78, 80, 82, 84, 86, 88, 90, 92, 94, 96, 98, 100]\n"
          ]
        }
      ]
    },
    {
      "cell_type": "code",
      "source": [
        "numero = input(\"Ingresa un número: \")\n",
        "digitos = [int(digito) for digito in numero]\n",
        "suma = sum(digitos)\n",
        "print(f\"La suma de los dígitos es: {suma}\")"
      ],
      "metadata": {
        "colab": {
          "base_uri": "https://localhost:8080/"
        },
        "id": "e5W44IgZovfD",
        "outputId": "ec13d966-fbe6-4a20-9101-e8337a2c7ec0"
      },
      "execution_count": 21,
      "outputs": [
        {
          "output_type": "stream",
          "name": "stdout",
          "text": [
            "Ingresa un número: 652\n",
            "La suma de los dígitos es: 13\n"
          ]
        }
      ]
    },
    {
      "cell_type": "code",
      "source": [
        "n = int(input(\"Ingresa un número: \"))\n",
        "if n <= 1:\n",
        "    es_primo = False\n",
        "else:\n",
        "    divisores = [i for i in range(2, int(n**0.5) + 1) if n % i == 0]\n",
        "    es_primo = len(divisores) == 0\n",
        "print(f\"{n} es primo.\" if es_primo else f\"{n} no es primo.\")"
      ],
      "metadata": {
        "colab": {
          "base_uri": "https://localhost:8080/"
        },
        "id": "6iW56QsRozf2",
        "outputId": "bd6a4e12-b873-49a9-f6f2-e9241b3f53fc"
      },
      "execution_count": 22,
      "outputs": [
        {
          "output_type": "stream",
          "name": "stdout",
          "text": [
            "Ingresa un número: 516\n",
            "516 no es primo.\n"
          ]
        }
      ]
    },
    {
      "cell_type": "code",
      "source": [
        "n = int(input(\"Ingresa un número: \"))\n",
        "triangulo = ['*' * i for i in range(1, n + 1)]\n",
        "for fila in triangulo:\n",
        "    print(fila)"
      ],
      "metadata": {
        "colab": {
          "base_uri": "https://localhost:8080/"
        },
        "id": "5OuhNyMto2UY",
        "outputId": "c9e59600-fa70-48f8-8aa2-047dbf4c0343"
      },
      "execution_count": 24,
      "outputs": [
        {
          "output_type": "stream",
          "name": "stdout",
          "text": [
            "Ingresa un número: 12\n",
            "*\n",
            "**\n",
            "***\n",
            "****\n",
            "*****\n",
            "******\n",
            "*******\n",
            "********\n",
            "*********\n",
            "**********\n",
            "***********\n",
            "************\n"
          ]
        }
      ]
    },
    {
      "cell_type": "code",
      "source": [
        "base = int(input(\"Ingresa la base: \"))\n",
        "exponente = int(input(\"Ingresa el exponente: \"))\n",
        "resultado = 1\n",
        "factores = [base] * exponente\n",
        "for factor in factores:\n",
        "    resultado *= factor\n",
        "print(f\"{base} elevado a {exponente} es: {resultado}\")"
      ],
      "metadata": {
        "colab": {
          "base_uri": "https://localhost:8080/"
        },
        "id": "3vXq7Bt-o7oq",
        "outputId": "95583567-f50a-4c53-a657-f7dcc93b3589"
      },
      "execution_count": 25,
      "outputs": [
        {
          "output_type": "stream",
          "name": "stdout",
          "text": [
            "Ingresa la base: 2\n",
            "Ingresa el exponente: 45\n",
            "2 elevado a 45 es: 35184372088832\n"
          ]
        }
      ]
    }
  ]
}