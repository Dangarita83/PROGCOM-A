{
  "nbformat": 4,
  "nbformat_minor": 0,
  "metadata": {
    "colab": {
      "provenance": [],
      "authorship_tag": "ABX9TyNsDCOI9gI49UHL07wlpwSm",
      "include_colab_link": true
    },
    "kernelspec": {
      "name": "python3",
      "display_name": "Python 3"
    },
    "language_info": {
      "name": "python"
    }
  },
  "cells": [
    {
      "cell_type": "markdown",
      "metadata": {
        "id": "view-in-github",
        "colab_type": "text"
      },
      "source": [
        "<a href=\"https://colab.research.google.com/github/Dangarita83/PROGCOM-A/blob/main/%5BPROGCOM_A%5D_JUEGO_EDUCATIVO.ipynb\" target=\"_parent\"><img src=\"https://colab.research.google.com/assets/colab-badge.svg\" alt=\"Open In Colab\"/></a>"
      ]
    },
    {
      "cell_type": "code",
      "execution_count": 1,
      "metadata": {
        "colab": {
          "base_uri": "https://localhost:8080/"
        },
        "id": "HLVk-u8oIuVl",
        "outputId": "85295fcb-67d9-49a4-c191-fdd56fbb4e2f"
      },
      "outputs": [
        {
          "output_type": "stream",
          "name": "stdout",
          "text": [
            "¡Bienvenido al juego de operaciones matemáticas!\n",
            "¿Cuánto es 7 / 1? 7\n",
            "¡Correcto!\n",
            "¿Cuánto es 8 + 10? 18\n",
            "¡Correcto!\n",
            "¿Cuánto es 9 - 2? 5\n",
            "Incorrecto. La respuesta correcta es 7.\n",
            "¿Cuánto es 35 / 5? 7\n",
            "¡Correcto!\n",
            "¿Cuánto es 6 * 6? 36\n",
            "¡Correcto!\n",
            "¿Cuánto es 32 / 4? 12\n",
            "Incorrecto. La respuesta correcta es 8.\n",
            "¿Cuánto es 2 + 9? 11\n",
            "¡Correcto!\n",
            "¿Cuánto es 8 * 5? 40\n",
            "¡Correcto!\n",
            "¿Cuánto es 3 * 4? 12\n",
            "¡Correcto!\n",
            "¿Cuánto es 35 / 7? 42\n",
            "Incorrecto. La respuesta correcta es 5.\n",
            "¿Cuánto es 63 / 9? 7\n",
            "¡Correcto!\n",
            "¿Cuánto es 2 - 1? 1\n",
            "¡Correcto!\n",
            "¿Cuánto es 63 / 7? 7\n",
            "Incorrecto. La respuesta correcta es 9.\n",
            "¿Cuánto es 6 / 1? 1\n",
            "Incorrecto. La respuesta correcta es 6.\n",
            "¿Cuánto es 2 + 3? 5\n",
            "¡Correcto!\n",
            "Juego terminado. Tu puntaje final es 10/15.\n"
          ]
        }
      ],
      "source": [
        "import random\n",
        "\n",
        "def generar_pregunta():\n",
        "    num1 = random.randint(1, 200)\n",
        "    num2 = random.randint(1, 200)\n",
        "    operacion = random.choice([\"+\", \"-\", \"*\", \"/\"])\n",
        "\n",
        "    if operacion == \"/\":\n",
        "        num1 = num1 * num2  # Aseguramos que la división sea exacta\n",
        "\n",
        "    if operacion == \"+\":\n",
        "        resultado = num1 + num2\n",
        "    elif operacion == \"-\":\n",
        "        resultado = num1 - num2\n",
        "    elif operacion == \"*\":\n",
        "        resultado = num1 * num2\n",
        "    else:  # operacion == \"/\"\n",
        "        resultado = num1 // num2  # División entera\n",
        "\n",
        "    return num1, num2, operacion, resultado\n",
        "\n",
        "def juego():\n",
        "    print(\"¡Bienvenido al juego de operaciones matemáticas!\")\n",
        "    puntaje = 0\n",
        "\n",
        "    for _ in range(15):  # Quince preguntas\n",
        "        num1, num2, operacion, resultado_correcto = generar_pregunta()\n",
        "\n",
        "        try:\n",
        "            respuesta = int(input(f\"¿Cuánto es {num1} {operacion} {num2}? \"))\n",
        "            if respuesta == resultado_correcto:\n",
        "                print(\"¡Correcto!\")\n",
        "                puntaje += 1\n",
        "            else:\n",
        "                print(f\"Incorrecto. La respuesta correcta es {resultado_correcto}.\")\n",
        "        except ValueError:\n",
        "            print(\"Por favor, ingresa un número válido.\")\n",
        "\n",
        "    print(f\"Juego terminado. Tu puntaje final es {puntaje}/15.\")\n",
        "\n",
        "if __name__ == \"__main__\":\n",
        "    juego()\n"
      ]
    }
  ]
}