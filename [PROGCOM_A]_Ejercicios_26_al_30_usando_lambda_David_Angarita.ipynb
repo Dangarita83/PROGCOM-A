{
  "nbformat": 4,
  "nbformat_minor": 0,
  "metadata": {
    "colab": {
      "provenance": [],
      "authorship_tag": "ABX9TyNAB5SOknnOJp4kpYGxo8x+",
      "include_colab_link": true
    },
    "kernelspec": {
      "name": "python3",
      "display_name": "Python 3"
    },
    "language_info": {
      "name": "python"
    }
  },
  "cells": [
    {
      "cell_type": "markdown",
      "metadata": {
        "id": "view-in-github",
        "colab_type": "text"
      },
      "source": [
        "<a href=\"https://colab.research.google.com/github/Dangarita83/PROGCOM-A/blob/main/%5BPROGCOM_A%5D_Ejercicios_26_al_30_usando_lambda_David_Angarita.ipynb\" target=\"_parent\"><img src=\"https://colab.research.google.com/assets/colab-badge.svg\" alt=\"Open In Colab\"/></a>"
      ]
    },
    {
      "cell_type": "markdown",
      "source": [
        "EJERCICIO # 26\n"
      ],
      "metadata": {
        "id": "imc10Xw3JMcz"
      }
    },
    {
      "cell_type": "code",
      "execution_count": null,
      "metadata": {
        "id": "eDxbxkpbJAIz"
      },
      "outputs": [],
      "source": [
        "multiplicar = lambda x, y: x * y\n",
        "for i in range(1, 11):\n",
        "    print(f\"Tabla del {i}\")\n",
        "    print(\" \".join([f\"{i}x{j}={multiplicar(i, j)}\" for j in range(1, 11)]))\n",
        "    print()\n"
      ]
    },
    {
      "cell_type": "markdown",
      "source": [
        "EJERCICIO #27\n"
      ],
      "metadata": {
        "id": "iP5Jx_MxJPSZ"
      }
    },
    {
      "cell_type": "code",
      "source": [
        "perfecto = lambda n: sum([i for i in range(1, n) if n % i == 0]) == n\n",
        "n = 10000\n",
        "print(f\"Números perfectos hasta {n}:\", [i for i in range(1, n) if perfecto(i)])"
      ],
      "metadata": {
        "id": "Z_BGHQY4Jbmf"
      },
      "execution_count": null,
      "outputs": []
    },
    {
      "cell_type": "markdown",
      "source": [
        "EJERCICIO #28"
      ],
      "metadata": {
        "id": "_-2fvTjQJQ6y"
      }
    },
    {
      "cell_type": "code",
      "source": [
        "diamante = lambda n: [\" \" * abs(n - i) + \"*\" * (2 * (n - abs(n - i)) - 1) for i in range(2 * n - 1)]\n",
        "n = 5\n",
        "print(\"\\n\".join(diamante(n)))"
      ],
      "metadata": {
        "id": "RLQicV-OJYsF"
      },
      "execution_count": null,
      "outputs": []
    },
    {
      "cell_type": "markdown",
      "source": [
        "EJERCICIO #29"
      ],
      "metadata": {
        "id": "Cc4cvypbJS5N"
      }
    },
    {
      "cell_type": "code",
      "source": [
        "armstrong = lambda num: sum(int(d) ** len(str(num)) for d in str(num)) == num\n",
        "n = 10000\n",
        "print(f\"Números Armstrong hasta {n}:\", [i for i in range(1, n) if armstrong(i)])"
      ],
      "metadata": {
        "id": "K67ncOXfJeR1"
      },
      "execution_count": null,
      "outputs": []
    },
    {
      "cell_type": "markdown",
      "source": [
        "EJERCICIO #30\n"
      ],
      "metadata": {
        "id": "aMnFDljDJVFC"
      }
    },
    {
      "cell_type": "code",
      "source": [
        "import time\n",
        "reloj = lambda h, m, s: f\"{h:02}:{m:02}:{s:02}\"\n",
        "horas, minutos, segundos = 8, 0, 0\n",
        "while horas < 20:\n",
        "    print(reloj(horas, minutos, segundos))\n",
        "    time.sleep(0.1)\n",
        "    segundos += 1\n",
        "    if segundos == 60:\n",
        "        segundos = 0\n",
        "        minutos += 1\n",
        "    if minutos == 60:\n",
        "        minutos = 0\n",
        "        horas += 1\n"
      ],
      "metadata": {
        "colab": {
          "base_uri": "https://localhost:8080/",
          "height": 1000
        },
        "id": "-m8ORRpoJg7V",
        "outputId": "283bb992-8d02-4a95-8f16-3eac3f23dfa6"
      },
      "execution_count": 7,
      "outputs": [
        {
          "output_type": "stream",
          "name": "stdout",
          "text": [
            "08:00:00\n",
            "08:00:01\n",
            "08:00:02\n",
            "08:00:03\n",
            "08:00:04\n",
            "08:00:05\n",
            "08:00:06\n",
            "08:00:07\n",
            "08:00:08\n",
            "08:00:09\n",
            "08:00:10\n",
            "08:00:11\n",
            "08:00:12\n",
            "08:00:13\n",
            "08:00:14\n",
            "08:00:15\n",
            "08:00:16\n",
            "08:00:17\n",
            "08:00:18\n",
            "08:00:19\n",
            "08:00:20\n",
            "08:00:21\n",
            "08:00:22\n",
            "08:00:23\n",
            "08:00:24\n",
            "08:00:25\n",
            "08:00:26\n",
            "08:00:27\n",
            "08:00:28\n",
            "08:00:29\n",
            "08:00:30\n",
            "08:00:31\n",
            "08:00:32\n",
            "08:00:33\n",
            "08:00:34\n",
            "08:00:35\n",
            "08:00:36\n",
            "08:00:37\n",
            "08:00:38\n",
            "08:00:39\n",
            "08:00:40\n",
            "08:00:41\n",
            "08:00:42\n",
            "08:00:43\n",
            "08:00:44\n",
            "08:00:45\n",
            "08:00:46\n",
            "08:00:47\n",
            "08:00:48\n",
            "08:00:49\n",
            "08:00:50\n",
            "08:00:51\n",
            "08:00:52\n",
            "08:00:53\n",
            "08:00:54\n",
            "08:00:55\n",
            "08:00:56\n",
            "08:00:57\n",
            "08:00:58\n",
            "08:00:59\n",
            "08:01:00\n",
            "08:01:01\n",
            "08:01:02\n",
            "08:01:03\n",
            "08:01:04\n",
            "08:01:05\n",
            "08:01:06\n",
            "08:01:07\n",
            "08:01:08\n",
            "08:01:09\n",
            "08:01:10\n",
            "08:01:11\n",
            "08:01:12\n",
            "08:01:13\n",
            "08:01:14\n",
            "08:01:15\n",
            "08:01:16\n",
            "08:01:17\n",
            "08:01:18\n",
            "08:01:19\n",
            "08:01:20\n",
            "08:01:21\n",
            "08:01:22\n",
            "08:01:23\n",
            "08:01:24\n",
            "08:01:25\n",
            "08:01:26\n",
            "08:01:27\n",
            "08:01:28\n",
            "08:01:29\n",
            "08:01:30\n",
            "08:01:31\n",
            "08:01:32\n",
            "08:01:33\n",
            "08:01:34\n",
            "08:01:35\n",
            "08:01:36\n",
            "08:01:37\n",
            "08:01:38\n",
            "08:01:39\n",
            "08:01:40\n",
            "08:01:41\n",
            "08:01:42\n",
            "08:01:43\n",
            "08:01:44\n",
            "08:01:45\n",
            "08:01:46\n",
            "08:01:47\n",
            "08:01:48\n",
            "08:01:49\n",
            "08:01:50\n",
            "08:01:51\n",
            "08:01:52\n",
            "08:01:53\n",
            "08:01:54\n",
            "08:01:55\n",
            "08:01:56\n",
            "08:01:57\n",
            "08:01:58\n",
            "08:01:59\n",
            "08:02:00\n",
            "08:02:01\n",
            "08:02:02\n",
            "08:02:03\n",
            "08:02:04\n",
            "08:02:05\n",
            "08:02:06\n",
            "08:02:07\n",
            "08:02:08\n",
            "08:02:09\n",
            "08:02:10\n",
            "08:02:11\n",
            "08:02:12\n",
            "08:02:13\n",
            "08:02:14\n",
            "08:02:15\n",
            "08:02:16\n",
            "08:02:17\n",
            "08:02:18\n",
            "08:02:19\n",
            "08:02:20\n",
            "08:02:21\n",
            "08:02:22\n",
            "08:02:23\n",
            "08:02:24\n",
            "08:02:25\n",
            "08:02:26\n",
            "08:02:27\n",
            "08:02:28\n",
            "08:02:29\n",
            "08:02:30\n",
            "08:02:31\n",
            "08:02:32\n",
            "08:02:33\n",
            "08:02:34\n",
            "08:02:35\n",
            "08:02:36\n",
            "08:02:37\n",
            "08:02:38\n",
            "08:02:39\n",
            "08:02:40\n",
            "08:02:41\n",
            "08:02:42\n",
            "08:02:43\n",
            "08:02:44\n",
            "08:02:45\n",
            "08:02:46\n",
            "08:02:47\n",
            "08:02:48\n",
            "08:02:49\n",
            "08:02:50\n",
            "08:02:51\n",
            "08:02:52\n",
            "08:02:53\n",
            "08:02:54\n",
            "08:02:55\n",
            "08:02:56\n",
            "08:02:57\n",
            "08:02:58\n",
            "08:02:59\n",
            "08:03:00\n",
            "08:03:01\n",
            "08:03:02\n",
            "08:03:03\n",
            "08:03:04\n",
            "08:03:05\n",
            "08:03:06\n",
            "08:03:07\n",
            "08:03:08\n",
            "08:03:09\n",
            "08:03:10\n",
            "08:03:11\n",
            "08:03:12\n"
          ]
        },
        {
          "output_type": "error",
          "ename": "KeyboardInterrupt",
          "evalue": "",
          "traceback": [
            "\u001b[0;31m---------------------------------------------------------------------------\u001b[0m",
            "\u001b[0;31mKeyboardInterrupt\u001b[0m                         Traceback (most recent call last)",
            "\u001b[0;32m<ipython-input-7-3735071fc37f>\u001b[0m in \u001b[0;36m<cell line: 0>\u001b[0;34m()\u001b[0m\n\u001b[1;32m      4\u001b[0m \u001b[0;32mwhile\u001b[0m \u001b[0mhoras\u001b[0m \u001b[0;34m<\u001b[0m \u001b[0;36m20\u001b[0m\u001b[0;34m:\u001b[0m  \u001b[0;31m# Hasta las 8 PM (20:00:00)\u001b[0m\u001b[0;34m\u001b[0m\u001b[0;34m\u001b[0m\u001b[0m\n\u001b[1;32m      5\u001b[0m     \u001b[0mprint\u001b[0m\u001b[0;34m(\u001b[0m\u001b[0mreloj\u001b[0m\u001b[0;34m(\u001b[0m\u001b[0mhoras\u001b[0m\u001b[0;34m,\u001b[0m \u001b[0mminutos\u001b[0m\u001b[0;34m,\u001b[0m \u001b[0msegundos\u001b[0m\u001b[0;34m)\u001b[0m\u001b[0;34m)\u001b[0m\u001b[0;34m\u001b[0m\u001b[0;34m\u001b[0m\u001b[0m\n\u001b[0;32m----> 6\u001b[0;31m     \u001b[0mtime\u001b[0m\u001b[0;34m.\u001b[0m\u001b[0msleep\u001b[0m\u001b[0;34m(\u001b[0m\u001b[0;36m0.1\u001b[0m\u001b[0;34m)\u001b[0m\u001b[0;34m\u001b[0m\u001b[0;34m\u001b[0m\u001b[0m\n\u001b[0m\u001b[1;32m      7\u001b[0m     \u001b[0msegundos\u001b[0m \u001b[0;34m+=\u001b[0m \u001b[0;36m1\u001b[0m\u001b[0;34m\u001b[0m\u001b[0;34m\u001b[0m\u001b[0m\n\u001b[1;32m      8\u001b[0m     \u001b[0;32mif\u001b[0m \u001b[0msegundos\u001b[0m \u001b[0;34m==\u001b[0m \u001b[0;36m60\u001b[0m\u001b[0;34m:\u001b[0m\u001b[0;34m\u001b[0m\u001b[0;34m\u001b[0m\u001b[0m\n",
            "\u001b[0;31mKeyboardInterrupt\u001b[0m: "
          ]
        }
      ]
    }
  ]
}