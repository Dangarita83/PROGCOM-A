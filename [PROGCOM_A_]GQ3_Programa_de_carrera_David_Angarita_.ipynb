{
  "nbformat": 4,
  "nbformat_minor": 0,
  "metadata": {
    "colab": {
      "provenance": [],
      "authorship_tag": "ABX9TyOpYgxLA8sy1M1TwCmQoDBF",
      "include_colab_link": true
    },
    "kernelspec": {
      "name": "python3",
      "display_name": "Python 3"
    },
    "language_info": {
      "name": "python"
    }
  },
  "cells": [
    {
      "cell_type": "markdown",
      "metadata": {
        "id": "view-in-github",
        "colab_type": "text"
      },
      "source": [
        "<a href=\"https://colab.research.google.com/github/Dangarita83/PROGCOM-A/blob/main/%5BPROGCOM_A_%5DGQ3_Programa_de_carrera_David_Angarita_.ipynb\" target=\"_parent\"><img src=\"https://colab.research.google.com/assets/colab-badge.svg\" alt=\"Open In Colab\"/></a>"
      ]
    },
    {
      "cell_type": "code",
      "execution_count": 1,
      "metadata": {
        "colab": {
          "base_uri": "https://localhost:8080/"
        },
        "id": "Dd0zBPKSqgTt",
        "outputId": "1e7729fe-22ad-46bf-efc2-cce685165557"
      },
      "outputs": [
        {
          "output_type": "stream",
          "name": "stdout",
          "text": [
            "Introduce la longitud de la contraseña: 10\n",
            "Tu contraseña aleatoria es: VxvG7WMscE\n"
          ]
        }
      ],
      "source": [
        "import random\n",
        "import string\n",
        "\n",
        "def generar_contraseña(longitud):\n",
        "    # Definir los caracteres posibles para la contraseña\n",
        "    caracteres = string.ascii_letters + string.digits + string.punctuation\n",
        "\n",
        "    # Generar una contraseña aleatoria usando la longitud especificada\n",
        "    contraseña = ''.join(random.choice(caracteres) for i in range(longitud))\n",
        "\n",
        "    return contraseña\n",
        "\n",
        "# Ejemplo de uso\n",
        "longitud = int(input(\"Introduce la longitud de la contraseña: \"))\n",
        "contraseña = generar_contraseña(longitud)\n",
        "print(\"Tu contraseña aleatoria es:\", contraseña)\n"
      ]
    }
  ]
}