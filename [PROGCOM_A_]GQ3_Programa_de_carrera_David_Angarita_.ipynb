{
  "nbformat": 4,
  "nbformat_minor": 0,
  "metadata": {
    "colab": {
      "provenance": [],
      "authorship_tag": "ABX9TyNz2IyIhTpmhbla3mpL8nhX",
      "include_colab_link": true
    },
    "kernelspec": {
      "name": "python3",
      "display_name": "Python 3"
    },
    "language_info": {
      "name": "python"
    }
  },
  "cells": [
    {
      "cell_type": "markdown",
      "metadata": {
        "id": "view-in-github",
        "colab_type": "text"
      },
      "source": [
        "<a href=\"https://colab.research.google.com/github/Dangarita83/PROGCOM-A/blob/main/%5BPROGCOM_A_%5DGQ3_Programa_de_carrera_David_Angarita_.ipynb\" target=\"_parent\"><img src=\"https://colab.research.google.com/assets/colab-badge.svg\" alt=\"Open In Colab\"/></a>"
      ]
    },
    {
      "cell_type": "code",
      "execution_count": 3,
      "metadata": {
        "colab": {
          "base_uri": "https://localhost:8080/"
        },
        "id": "Dd0zBPKSqgTt",
        "outputId": "ca6e24f1-a583-4ba8-ae1e-81a47267c207"
      },
      "outputs": [
        {
          "output_type": "stream",
          "name": "stdout",
          "text": [
            "Ingrese la cantidad de caracteres para la contraseña: 10\n",
            "Contraseña generada: OurRB2q&3)\n",
            "¿Desea guardar la contraseña? (si/no): no\n",
            "Vuelva pronto :)\n"
          ]
        }
      ],
      "source": [
        "import random\n",
        "import string\n",
        "\n",
        "def generar_contraseña(longitud):\n",
        "    caracteres = string.ascii_letters + string.digits + string.punctuation\n",
        "    contraseña = ''.join(random.choice(caracteres) for _ in range(longitud))\n",
        "    return contraseña\n",
        "\n",
        "def guardar_contraseña(nombre, contraseña):\n",
        "    with open(\"contraseñas_guardadas.txt\", \"a\") as archivo:\n",
        "        archivo.write(f\"{nombre}: {contraseña}\\n\")\n",
        "    print(\"Contraseña guardada exitosamente.\")\n",
        "\n",
        "if __name__ == \"__main__\":\n",
        "    longitud = int(input(\"Ingrese la cantidad de caracteres para la contraseña: \"))\n",
        "    contraseña = generar_contraseña(longitud)\n",
        "    print(f\"Contraseña generada: {contraseña}\")\n",
        "\n",
        "    guardar = input(\"¿Desea guardar la contraseña? (si/no): \").strip().lower()\n",
        "    if guardar == \"si\":\n",
        "        nombre = input(\"Ingrese un nombre para identificar la contraseña: \")\n",
        "        guardar_contraseña(nombre, contraseña)\n",
        "    else:\n",
        "      print(\"Vuelva pronto :)\")\n"
      ]
    }
  ]
}