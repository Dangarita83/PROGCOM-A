{
  "nbformat": 4,
  "nbformat_minor": 0,
  "metadata": {
    "colab": {
      "provenance": [],
      "authorship_tag": "ABX9TyOnQG4CWZvAQt1+Eq4Kk1UF",
      "include_colab_link": true
    },
    "kernelspec": {
      "name": "python3",
      "display_name": "Python 3"
    },
    "language_info": {
      "name": "python"
    }
  },
  "cells": [
    {
      "cell_type": "markdown",
      "metadata": {
        "id": "view-in-github",
        "colab_type": "text"
      },
      "source": [
        "<a href=\"https://colab.research.google.com/github/Dangarita83/PROGCOM-A/blob/main/Funciones_lambda_o_anonimos_David_Angarita.ipynb\" target=\"_parent\"><img src=\"https://colab.research.google.com/assets/colab-badge.svg\" alt=\"Open In Colab\"/></a>"
      ]
    },
    {
      "cell_type": "markdown",
      "source": [
        "#LAMBDA o funciones anonimas\n",
        "* declaran funciones pequeñas, sencillas y acceso rapido\n",
        "* puede contener solo **UNA** expresion, por lo que no son las mas adecuadas para funciones con instrucciones de flujo\n",
        "* ** las funciones lambda puedene tener n numero de argumentos pero solo una expresion**.\n",
        "\n",
        "\n",
        "se define\n",
        "\n",
        "\n",
        "```\n",
        "lambda (args o parametros):argumento\n",
        "```\n",
        "\n"
      ],
      "metadata": {
        "id": "o5w4pTG_zmQ0"
      }
    },
    {
      "cell_type": "code",
      "execution_count": 1,
      "metadata": {
        "colab": {
          "base_uri": "https://localhost:8080/"
        },
        "id": "BhU6y4AZzhGr",
        "outputId": "7fabe922-43c6-4939-e2d4-482084bdb3a7"
      },
      "outputs": [
        {
          "output_type": "stream",
          "name": "stdout",
          "text": [
            "100\n"
          ]
        }
      ],
      "source": [
        "# Funcion tradicional para calcular el cuadro de un numero:\n",
        "\n",
        "def cuadrado (num):\n",
        "  return num **2\n",
        "\n",
        "print(cuadrado(10))"
      ]
    },
    {
      "cell_type": "code",
      "source": [
        "# Funcion lambda para calcular el cuadrado de un numero\n",
        "\n",
        "cuadrado = (lambda  num: num**2)\n",
        "\n",
        "print(cuadrado(10))"
      ],
      "metadata": {
        "colab": {
          "base_uri": "https://localhost:8080/"
        },
        "id": "b9EQ4WKW0tIz",
        "outputId": "f38de4b6-58a0-4aea-a198-62724cc24335"
      },
      "execution_count": 2,
      "outputs": [
        {
          "output_type": "stream",
          "name": "stdout",
          "text": [
            "100\n"
          ]
        }
      ]
    },
    {
      "cell_type": "code",
      "source": [
        "# Funcion que si un numero elevado a la n es >10 me regrese un tue, y si no, un false\n",
        "\n",
        "def numero(x,n):\n",
        "  if x**n > 10:\n",
        "    return True\n",
        "  else:\n",
        "    return False"
      ],
      "metadata": {
        "id": "JOVNP0Oc2BWK"
      },
      "execution_count": 5,
      "outputs": []
    },
    {
      "cell_type": "code",
      "source": [
        "print(numero(3,2))"
      ],
      "metadata": {
        "colab": {
          "base_uri": "https://localhost:8080/"
        },
        "id": "1gDHmwkb2ZjS",
        "outputId": "489cf50f-f1c0-4cdb-924a-00fda210af2a"
      },
      "execution_count": 6,
      "outputs": [
        {
          "output_type": "stream",
          "name": "stdout",
          "text": [
            "False\n"
          ]
        }
      ]
    },
    {
      "cell_type": "code",
      "source": [
        "# Funcion lambda que si un numero elevado a la n es >10 me regrese un tue, y si no, un false\n",
        "\n",
        "cuadrado10 = lambda x,n: True if x**n > 10 else False\n",
        "\n",
        "print(cuadrado10(3,8))"
      ],
      "metadata": {
        "colab": {
          "base_uri": "https://localhost:8080/"
        },
        "id": "cJIEGmhH2mhJ",
        "outputId": "25a360ad-0240-4d82-f69c-d4afa21ce125"
      },
      "execution_count": 7,
      "outputs": [
        {
          "output_type": "stream",
          "name": "stdout",
          "text": [
            "True\n"
          ]
        }
      ]
    },
    {
      "cell_type": "markdown",
      "source": [
        "Usando la funcion MAP"
      ],
      "metadata": {
        "id": "Kx1l4GLc3cEI"
      }
    },
    {
      "cell_type": "code",
      "source": [
        "dias = [\"Lunes\",\"Martes\",\"Miercoles\",\"Jueves\",\"Viernes\",\"Sabado\",\"Domingo\"]\n",
        "temp = [10.5,33.8,27.6,24.7,33.2,28.9,27.3]\n",
        "\n",
        "diassemana = {dias:temp for (dias,temp) in zip(dias,temp)}\n",
        "print(diassemana)"
      ],
      "metadata": {
        "colab": {
          "base_uri": "https://localhost:8080/"
        },
        "id": "wWLdpdGQ3eXB",
        "outputId": "7f97bf5c-8b9a-4742-aa5e-4d76e3ea2815"
      },
      "execution_count": 23,
      "outputs": [
        {
          "output_type": "stream",
          "name": "stdout",
          "text": [
            "{'Lunes': 10.5, 'Martes': 33.8, 'Miercoles': 27.6, 'Jueves': 24.7, 'Viernes': 33.2, 'Sabado': 28.9, 'Domingo': 27.3}\n"
          ]
        }
      ]
    },
    {
      "cell_type": "code",
      "source": [
        "clima = dict(diassemana)\n",
        "clima"
      ],
      "metadata": {
        "colab": {
          "base_uri": "https://localhost:8080/"
        },
        "id": "dBcu4ldb5Is4",
        "outputId": "51e260c0-10d8-4cf8-9df0-a90da163de76"
      },
      "execution_count": 16,
      "outputs": [
        {
          "output_type": "execute_result",
          "data": {
            "text/plain": [
              "{'Lunes': 30.5,\n",
              " 'Martes': 33.8,\n",
              " 'Miercoles': 27.6,\n",
              " 'Jueves': 24.7,\n",
              " 'Viernes': 33.2,\n",
              " 'Sabado': 28.9,\n",
              " 'Domingo': 27.3}"
            ]
          },
          "metadata": {},
          "execution_count": 16
        }
      ]
    },
    {
      "cell_type": "code",
      "source": [
        "def temperatura (temp):\n",
        "  resultado = []\n",
        "  for i in temp:\n",
        "    if i < 20.0: resultado.append((i,\"Temperatura fria\"))\n",
        "    elif i >= 20.0 and i < 30: resultado.append((i,\"Temperatura templada\"))\n",
        "    else: resultado.append((i, \"Temperatura caliente\"))\n",
        "  return resultado\n",
        "temperatura(temp)"
      ],
      "metadata": {
        "colab": {
          "base_uri": "https://localhost:8080/"
        },
        "id": "RjQ1_brv5Q0v",
        "outputId": "3c8334a7-2e6e-415d-cbed-c30d55466593"
      },
      "execution_count": 24,
      "outputs": [
        {
          "output_type": "execute_result",
          "data": {
            "text/plain": [
              "[(10.5, 'Temperatura fria'),\n",
              " (33.8, 'Temperatura caliente'),\n",
              " (27.6, 'Temperatura templada'),\n",
              " (24.7, 'Temperatura templada'),\n",
              " (33.2, 'Temperatura caliente'),\n",
              " (28.9, 'Temperatura templada'),\n",
              " (27.3, 'Temperatura templada')]"
            ]
          },
          "metadata": {},
          "execution_count": 24
        }
      ]
    },
    {
      "cell_type": "markdown",
      "source": [
        "Declarando la funcion MAP\n",
        "\n",
        "\n",
        "\n",
        "```\n",
        "map(funcion a maper, parametros a mapear)\n",
        "```\n",
        "\n"
      ],
      "metadata": {
        "id": "rRjWT3eE7wqG"
      }
    },
    {
      "cell_type": "code",
      "source": [
        "## Mismo ejercicio, con funciones anonimas\n",
        "\n",
        "def clima2(l1,l2):\n",
        "  y2 = temperatura(l2)\n",
        "  return dict(map(lambda x,y:(x,y),l1,y2))\n",
        "clima2(dias,temp)"
      ],
      "metadata": {
        "colab": {
          "base_uri": "https://localhost:8080/"
        },
        "id": "PFFeM9AF6kaX",
        "outputId": "17915724-a065-4224-e5bb-ac6da1e8209b"
      },
      "execution_count": 26,
      "outputs": [
        {
          "output_type": "execute_result",
          "data": {
            "text/plain": [
              "{'Lunes': (10.5, 'Temperatura fria'),\n",
              " 'Martes': (33.8, 'Temperatura caliente'),\n",
              " 'Miercoles': (27.6, 'Temperatura templada'),\n",
              " 'Jueves': (24.7, 'Temperatura templada'),\n",
              " 'Viernes': (33.2, 'Temperatura caliente'),\n",
              " 'Sabado': (28.9, 'Temperatura templada'),\n",
              " 'Domingo': (27.3, 'Temperatura templada')}"
            ]
          },
          "metadata": {},
          "execution_count": 26
        }
      ]
    },
    {
      "cell_type": "code",
      "source": [
        "a1 = lambda x: \"Temperatura ambiente\" if (x>=20 and x<30) else \"Temperatura caliente\"\n",
        "a2 = lambda x: \"Temperatura fria\" if x <18 else a1(x)\n",
        "t1 = []\n",
        "\n",
        "for i in temp: t1.append((i, a2(i)))\n",
        "t1"
      ],
      "metadata": {
        "colab": {
          "base_uri": "https://localhost:8080/"
        },
        "id": "czpjwF-z81n1",
        "outputId": "2ccff4bb-73fd-4196-be83-e0d8e15969c9"
      },
      "execution_count": 33,
      "outputs": [
        {
          "output_type": "execute_result",
          "data": {
            "text/plain": [
              "[(10.5, 'Temperatura fria'),\n",
              " (33.8, 'Temperatura caliente'),\n",
              " (27.6, 'Temperatura ambiente'),\n",
              " (24.7, 'Temperatura ambiente'),\n",
              " (33.2, 'Temperatura caliente'),\n",
              " (28.9, 'Temperatura ambiente'),\n",
              " (27.3, 'Temperatura ambiente')]"
            ]
          },
          "metadata": {},
          "execution_count": 33
        }
      ]
    },
    {
      "cell_type": "code",
      "source": [],
      "metadata": {
        "id": "oEK-4Df89QFM"
      },
      "execution_count": null,
      "outputs": []
    }
  ]
}
